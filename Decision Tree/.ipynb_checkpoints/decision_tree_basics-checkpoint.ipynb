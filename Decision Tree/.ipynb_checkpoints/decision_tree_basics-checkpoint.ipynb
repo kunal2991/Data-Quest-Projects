{
 "cells": [
  {
   "cell_type": "code",
   "execution_count": 2,
   "metadata": {
    "collapsed": false
   },
   "outputs": [
    {
     "name": "stdout",
     "output_type": "stream",
     "text": [
      "   age          workclass  fnlwgt   education  education_num  \\\n",
      "0   50   Self-emp-not-inc   83311   Bachelors             13   \n",
      "1   38            Private  215646     HS-grad              9   \n",
      "2   53            Private  234721        11th              7   \n",
      "3   28            Private  338409   Bachelors             13   \n",
      "4   37            Private  284582     Masters             14   \n",
      "\n",
      "        marital_status          occupation    relationship    race      sex  \\\n",
      "0   Married-civ-spouse     Exec-managerial         Husband   White     Male   \n",
      "1             Divorced   Handlers-cleaners   Not-in-family   White     Male   \n",
      "2   Married-civ-spouse   Handlers-cleaners         Husband   Black     Male   \n",
      "3   Married-civ-spouse      Prof-specialty            Wife   Black   Female   \n",
      "4   Married-civ-spouse     Exec-managerial            Wife   White   Female   \n",
      "\n",
      "   capital_gain  capital_loss  hours_per_week  native_country high_income  \n",
      "0             0             0              13   United-States       <=50K  \n",
      "1             0             0              40   United-States       <=50K  \n",
      "2             0             0              40   United-States       <=50K  \n",
      "3             0             0              40            Cuba       <=50K  \n",
      "4             0             0              40   United-States       <=50K  \n"
     ]
    }
   ],
   "source": [
    "import pandas\n",
    "import numpy as np\n",
    "import matplotlib.pyplot as plt\n",
    "%matplotlib inline\n",
    "\n",
    "income = pandas.read_csv('income.csv',index_col=False)\n",
    "columns = [['age','workclass','fnlwgt','education','education_num','marital_status','occupation','relationship','race','sex','capital_gain','capital_loss','hours_per_week','native_country','high_income']]\n",
    "income.columns = columns\n",
    "print(income.head(5))"
   ]
  },
  {
   "cell_type": "code",
   "execution_count": 3,
   "metadata": {
    "collapsed": false
   },
   "outputs": [
    {
     "name": "stdout",
     "output_type": "stream",
     "text": [
      "0    6\n",
      "1    4\n",
      "2    4\n",
      "3    4\n",
      "4    4\n",
      "Name: workclass, dtype: int8\n"
     ]
    }
   ],
   "source": [
    "#Converting categorical variables in income to codes using Categorical.from_array\n",
    "\n",
    "col = pandas.Categorical.from_array(income['workclass'])\n",
    "income['workclass'] = col.codes\n",
    "print(income['workclass'].head(5))\n",
    "for name in [\"education\", \"marital_status\", \"occupation\", \"relationship\", \"race\", \"sex\", \"native_country\", \"high_income\"]:\n",
    "    col = pandas.Categorical.from_array(income[name])\n",
    "    income[name] = col.codes"
   ]
  },
  {
   "cell_type": "code",
   "execution_count": 4,
   "metadata": {
    "collapsed": false
   },
   "outputs": [
    {
     "name": "stdout",
     "output_type": "stream",
     "text": [
      "   age  workclass  fnlwgt  education  education_num  marital_status  \\\n",
      "1   38          4  215646         11              9               0   \n",
      "2   53          4  234721          1              7               2   \n",
      "\n",
      "   occupation  relationship  race  sex  capital_gain  capital_loss  \\\n",
      "1           6             1     4    1             0             0   \n",
      "2           6             0     2    1             0             0   \n",
      "\n",
      "   hours_per_week  native_country  high_income  \n",
      "1              40              39            0  \n",
      "2              40              39            0  \n",
      "   age  workclass  fnlwgt  education  education_num  marital_status  \\\n",
      "0   50          6   83311          9             13               2   \n",
      "6   52          6  209642         11              9               2   \n",
      "\n",
      "   occupation  relationship  race  sex  capital_gain  capital_loss  \\\n",
      "0           4             0     4    1             0             0   \n",
      "6           4             0     4    1             0             0   \n",
      "\n",
      "   hours_per_week  native_country  high_income  \n",
      "0              13              39            0  \n",
      "6              45              39            1  \n"
     ]
    }
   ],
   "source": [
    "#Splitting dataset based on whether workclass is 'private' or not\n",
    "\n",
    "private_incomes = income[income['workclass']==4]\n",
    "public_incomes = income[income['workclass']!=4]\n",
    "print(private_incomes.head(2))\n",
    "print(public_incomes.head(2))"
   ]
  },
  {
   "cell_type": "code",
   "execution_count": 5,
   "metadata": {
    "collapsed": false
   },
   "outputs": [
    {
     "name": "stdout",
     "output_type": "stream",
     "text": [
      "0    24719\n",
      "1     7841\n",
      "Name: high_income, dtype: int64\n",
      "0.7963962067582189\n"
     ]
    }
   ],
   "source": [
    "# Computing entropy\n",
    "\n",
    "import math\n",
    "values = income['high_income'].value_counts()\n",
    "print(values)\n",
    "\n",
    "prob_0 = income[income['high_income']==0].shape[0] / income.shape[0]\n",
    "prob_1 = income[income['high_income']==1].shape[0] / income.shape[0]\n",
    "income_entropy = -(prob_0*math.log(prob_0,2) + prob_1*(math.log(prob_1,2)))\n",
    "print(income_entropy)"
   ]
  },
  {
   "cell_type": "code",
   "execution_count": 6,
   "metadata": {
    "collapsed": false
   },
   "outputs": [
    {
     "name": "stdout",
     "output_type": "stream",
     "text": [
      "37.0\n",
      "0.796396206758\n",
      "0.0470370853414\n"
     ]
    }
   ],
   "source": [
    "# Calculating information gain(IG)\n",
    "\n",
    "def calc_entropy(column):\n",
    "    counts = np.bincount(column)\n",
    "    probabilities = counts / len(column)\n",
    "    entropy = 0\n",
    "    for prob in probabilities:\n",
    "        if prob > 0:\n",
    "            entropy = entropy + prob * math.log(prob,2)\n",
    "    return -entropy\n",
    "\n",
    "median = np.median(income['age'])\n",
    "print(median)\n",
    "left_split = income[income['age'] <= median]\n",
    "right_split = income[income['age'] > median]\n",
    "\n",
    "income_entropy = calc_entropy(income['high_income'])\n",
    "print(income_entropy)\n",
    "age_information_gain = income_entropy - ((left_split.shape[0] / income.shape[0]) * calc_entropy(left_split[\"high_income\"]) + ((right_split.shape[0] / income.shape[0]) * calc_entropy(right_split[\"high_income\"])))\n",
    "print(age_information_gain)"
   ]
  },
  {
   "cell_type": "markdown",
   "metadata": {},
   "source": [
    "From the values above, we can see that the 'age' column is not a great variable to 'split' on since we get an information gain of only 0.04 i.e only 0.04 bits of information."
   ]
  },
  {
   "cell_type": "code",
   "execution_count": 7,
   "metadata": {
    "collapsed": false
   },
   "outputs": [
    {
     "name": "stdout",
     "output_type": "stream",
     "text": [
      "0.0470370853414\n",
      "marital_status\n",
      "0.11142081635\n"
     ]
    }
   ],
   "source": [
    "def calc_information_gain(data, split_name, target_name):\n",
    "    original_entropy = calc_entropy(data[target_name])\n",
    "    \n",
    "    column = data[split_name]\n",
    "    median = column.median()\n",
    "    \n",
    "    left_split = data[column <= median]\n",
    "    right_split = data[column > median]\n",
    "    \n",
    "    to_subtract = 0\n",
    "    for subset in [left_split, right_split]:\n",
    "        prob = (subset.shape[0] / data.shape[0]) \n",
    "        to_subtract += prob * calc_entropy(subset[target_name])\n",
    "    \n",
    "    return original_entropy - to_subtract\n",
    "\n",
    "print(calc_information_gain(income, \"age\", \"high_income\"))\n",
    "\n",
    "columns = [\"age\", \"workclass\", \"education_num\", \"marital_status\", \"occupation\", \"relationship\", \"race\", \"sex\", \"hours_per_week\", \"native_country\"]\n",
    "information_gains = []\n",
    "for col in columns:\n",
    "    information_gain = calc_information_gain(income, col, \"high_income\")\n",
    "    information_gains.append(information_gain)\n",
    "\n",
    "highest_gain_index = information_gains.index(max(information_gains))\n",
    "highest_gain = columns[highest_gain_index]\n",
    "print(highest_gain)\n",
    "print(information_gains[highest_gain_index])"
   ]
  },
  {
   "cell_type": "markdown",
   "metadata": {},
   "source": [
    "From the above cell of code, we can see that the most information gain is from the 'marital_status' column with 0.11 bits. So, we can split the data on that variable."
   ]
  },
  {
   "cell_type": "code",
   "execution_count": 8,
   "metadata": {
    "collapsed": false
   },
   "outputs": [],
   "source": [
    "# Creating a function to automate the process i.e calculate the column which provides the maximum gain for a particular target variable.\n",
    "\n",
    "def find_best_column(data, target_name, columns):\n",
    "    information_gains = []\n",
    "    for col in columns:\n",
    "        information_gain = calc_information_gain(income, col, 'high_income')\n",
    "        information_gains.append(information_gain)\n",
    "    highest_gain_index = information_gains.index(max(information_gains))\n",
    "    highest_gain = columns[highest_gain_index]\n",
    "    return highest_gain\n",
    "\n",
    "columns = [\"age\", \"workclass\", \"education_num\", \"marital_status\", \"occupation\", \"relationship\", \"race\", \"sex\", \"hours_per_week\", \"native_country\"]\n",
    "income_split = find_best_column(income, 'high_income', columns)"
   ]
  },
  {
   "cell_type": "code",
   "execution_count": 25,
   "metadata": {
    "collapsed": false
   },
   "outputs": [
    {
     "name": "stdout",
     "output_type": "stream",
     "text": [
      "4500\n",
      "{'column': 'marital_status', 'right': {'number': 5, 'label': 1}, 'number': 1, 'left': {'column': 'marital_status', 'right': {'number': 4, 'label': 1}, 'number': 2, 'left': {'number': 3, 'label': 0}, 'median': 0.5}, 'median': 1.0}\n"
     ]
    }
   ],
   "source": [
    "# Implementing ID3 recursively and using a dictionary to store the entire tree\n",
    "import sys\n",
    "sys.setrecursionlimit(4500) #To avoid the max recursion limit reached error\n",
    "depth = sys.getrecursionlimit()\n",
    "print(depth)\n",
    "data = pandas.DataFrame([\n",
    "    [0,20,0],\n",
    "    [1,35,2],\n",
    "    [1,55,1]\n",
    "    ])\n",
    "data.columns = [\"high_income\", \"age\", \"marital_status\"]\n",
    "\n",
    "tree = {}\n",
    "nodes = [] #Store the number of nodes\n",
    "\n",
    "def id3(data, target, columns, tree):\n",
    "    unique_targets = pandas.unique(data[target])\n",
    "    \n",
    "    nodes.append(len(nodes) + 1)\n",
    "    tree[\"number\"] = nodes[-1]\n",
    "\n",
    "    if len(unique_targets) == 1:\n",
    "        if 0 in unique_targets:\n",
    "            tree['label'] = 0\n",
    "        elif 1 in unique_targets:\n",
    "            tree['label'] = 1\n",
    "        return\n",
    "    \n",
    "    best_column = find_best_column(data, target, columns)\n",
    "    column_median = data[best_column].median()\n",
    "    \n",
    "    tree['column'] = best_column\n",
    "    tree['median'] = column_median\n",
    "    \n",
    "    left_split = data[data[best_column] <= column_median]\n",
    "    right_split = data[data[best_column] > column_median]\n",
    "    split_dict = [[\"left\", left_split], [\"right\", right_split]]\n",
    "    \n",
    "    for name, split in split_dict:\n",
    "        tree[name] = {}\n",
    "        id3(split, target, columns, tree[name])\n",
    "\n",
    "id3(data, \"high_income\", [\"age\", \"marital_status\"], tree)\n",
    "print(tree)"
   ]
  },
  {
   "cell_type": "code",
   "execution_count": 26,
   "metadata": {
    "collapsed": false
   },
   "outputs": [
    {
     "name": "stdout",
     "output_type": "stream",
     "text": [
      "marital_status > 1.0\n",
      "    marital_status > 0.5\n",
      "        Leaf: Label 0\n",
      "        Leaf: Label 1\n",
      "    Leaf: Label 1\n"
     ]
    }
   ],
   "source": [
    "#Modifying the tree to present it in a better format\n",
    "\n",
    "def print_with_depth(string, depth):\n",
    "    prefix = \"    \" * depth\n",
    "    print(\"{0}{1}\".format(prefix, string))\n",
    "\n",
    "def print_node(tree, depth):\n",
    "    if 'label' in tree:\n",
    "        print_with_depth(\"Leaf: Label {0}\".format(tree[\"label\"]), depth)\n",
    "        return\n",
    "    \n",
    "    print_with_depth(\"{0} > {1}\".format(tree[\"column\"], tree[\"median\"]), depth)\n",
    "    \n",
    "    branches = [tree[\"left\"], tree[\"right\"]]\n",
    "    for branch in branches:\n",
    "        print_node(branch, depth+1)\n",
    "        \n",
    "print_node(tree, 0)"
   ]
  },
  {
   "cell_type": "code",
   "execution_count": 27,
   "metadata": {
    "collapsed": false
   },
   "outputs": [
    {
     "name": "stdout",
     "output_type": "stream",
     "text": [
      "0\n"
     ]
    }
   ],
   "source": [
    "# Predicting values from the decision tree\n",
    "\n",
    "def predict(tree, row):\n",
    "    if 'label' in tree:\n",
    "        return tree['label']\n",
    "    \n",
    "    column = tree['column']\n",
    "    median = tree['median']\n",
    "    \n",
    "    if row[column] <= median:\n",
    "        return predict(tree['left'],row)\n",
    "    else:\n",
    "        return predict(tree['right'],row)\n",
    "    \n",
    "print(predict(tree, data.iloc[0]))"
   ]
  },
  {
   "cell_type": "markdown",
   "metadata": {},
   "source": [
    "From the above output you can see that we have predicted the value for a single row. Next step is to try to make multiple predictions at the same time."
   ]
  },
  {
   "cell_type": "code",
   "execution_count": 28,
   "metadata": {
    "collapsed": false
   },
   "outputs": [
    {
     "name": "stdout",
     "output_type": "stream",
     "text": [
      "0    0\n",
      "1    1\n",
      "2    1\n",
      "3    1\n",
      "4    1\n",
      "5    1\n",
      "dtype: int64\n"
     ]
    }
   ],
   "source": [
    "# Making multiple predictions at the same time\n",
    "\n",
    "new_data = pandas.DataFrame([\n",
    "    [40,0],\n",
    "    [20,2],\n",
    "    [80,1],\n",
    "    [15,1],\n",
    "    [27,2],\n",
    "    [38,1]\n",
    "    ])\n",
    "# Assign column names to the data.\n",
    "new_data.columns = [\"age\", \"marital_status\"]\n",
    "\n",
    "def batch_predict(tree, df):\n",
    "    return df.apply(lambda x: predict(tree,x), axis=1)\n",
    "\n",
    "predictions = batch_predict(tree, new_data)\n",
    "print(predictions)"
   ]
  }
 ],
 "metadata": {
  "kernelspec": {
   "display_name": "Python 3",
   "language": "python",
   "name": "python3"
  },
  "language_info": {
   "codemirror_mode": {
    "name": "ipython",
    "version": 3
   },
   "file_extension": ".py",
   "mimetype": "text/x-python",
   "name": "python",
   "nbconvert_exporter": "python",
   "pygments_lexer": "ipython3",
   "version": "3.5.1"
  }
 },
 "nbformat": 4,
 "nbformat_minor": 0
}
