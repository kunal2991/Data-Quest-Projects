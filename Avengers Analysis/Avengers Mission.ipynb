{
 "cells": [
  {
   "cell_type": "code",
   "execution_count": 3,
   "metadata": {
    "collapsed": false
   },
   "outputs": [
    {
     "name": "stdout",
     "output_type": "stream",
     "text": [
      "                                                 URL  \\\n",
      "0      http://marvel.wikia.com/Henry_Pym_(Earth-616)   \n",
      "1  http://marvel.wikia.com/Janet_van_Dyne_(Earth-...   \n",
      "2  http://marvel.wikia.com/Anthony_Stark_(Earth-616)   \n",
      "\n",
      "                    Name/Alias  Appearances Current?  Gender  \\\n",
      "0    Henry Jonathan \"Hank\" Pym         1269      YES    MALE   \n",
      "1               Janet van Dyne         1165      YES  FEMALE   \n",
      "2  Anthony Edward \"Tony\" Stark         3068      YES    MALE   \n",
      "\n",
      "  Probationary Introl Full/Reserve Avengers Intro  Year  Years since joining  \\\n",
      "0                 NaN                      Sep-63  1963                   52   \n",
      "1                 NaN                      Sep-63  1963                   52   \n",
      "2                 NaN                      Sep-63  1963                   52   \n",
      "\n",
      "  Honorary                        ...                         Return1 Death2  \\\n",
      "0     Full                        ...                              NO    NaN   \n",
      "1     Full                        ...                             YES    NaN   \n",
      "2     Full                        ...                             YES    NaN   \n",
      "\n",
      "  Return2 Death3 Return3 Death4 Return4 Death5 Return5  \\\n",
      "0     NaN    NaN     NaN    NaN     NaN    NaN     NaN   \n",
      "1     NaN    NaN     NaN    NaN     NaN    NaN     NaN   \n",
      "2     NaN    NaN     NaN    NaN     NaN    NaN     NaN   \n",
      "\n",
      "                                               Notes  \n",
      "0  Merged with Ultron in Rage of Ultron Vol. 1. A...  \n",
      "1  Dies in Secret Invasion V1:I8. Actually was se...  \n",
      "2  Death: \"Later while under the influence of Imm...  \n",
      "\n",
      "[3 rows x 21 columns]\n"
     ]
    }
   ],
   "source": [
    "import pandas as pd\n",
    "import matplotlib.pyplot as plt\n",
    "import seaborn as sns\n",
    "%matplotlib inline\n",
    "\n",
    "avengers = pd.read_csv('avengers.csv', encoding='ISO-8859-2')\n",
    "print(avengers.head(3))"
   ]
  },
  {
   "cell_type": "markdown",
   "metadata": {},
   "source": [
    "Reading in data."
   ]
  },
  {
   "cell_type": "code",
   "execution_count": 4,
   "metadata": {
    "collapsed": false
   },
   "outputs": [
    {
     "data": {
      "image/png": "[encoded data removed]",
      "text/plain": [
       "<matplotlib.figure.Figure at 0x117695a90>"
      ]
     },
     "metadata": {},
     "output_type": "display_data"
    }
   ],
   "source": [
    "avengers['Year'].hist()\n",
    "plt.show()"
   ]
  },
  {
   "cell_type": "markdown",
   "metadata": {},
   "source": [
    "Since the data is sourced and compiled by an open community, we see there is some abnormal data since it seems here as if there are some avengers which have been introduced in the 1900s which is not true since the Avengers series was started in 1960. So, we need to filter out these inconsistencies."
   ]
  },
  {
   "cell_type": "code",
   "execution_count": 5,
   "metadata": {
    "collapsed": true
   },
   "outputs": [],
   "source": [
    "true_avengers = avengers[avengers['Year'] >= 1960]"
   ]
  },
  {
   "cell_type": "code",
   "execution_count": 7,
   "metadata": {
    "collapsed": false
   },
   "outputs": [
    {
     "name": "stdout",
     "output_type": "stream",
     "text": [
      "                                                 URL  \\\n",
      "0      http://marvel.wikia.com/Henry_Pym_(Earth-616)   \n",
      "1  http://marvel.wikia.com/Janet_van_Dyne_(Earth-...   \n",
      "\n",
      "                  Name/Alias  Appearances Current?  Gender  \\\n",
      "0  Henry Jonathan \"Hank\" Pym         1269      YES    MALE   \n",
      "1             Janet van Dyne         1165      YES  FEMALE   \n",
      "\n",
      "  Probationary Introl Full/Reserve Avengers Intro  Year  Years since joining  \\\n",
      "0                 NaN                      Sep-63  1963                   52   \n",
      "1                 NaN                      Sep-63  1963                   52   \n",
      "\n",
      "  Honorary  ...   Death2 Return2 Death3 Return3 Death4 Return4 Death5 Return5  \\\n",
      "0     Full  ...      NaN     NaN    NaN     NaN    NaN     NaN    NaN     NaN   \n",
      "1     Full  ...      NaN     NaN    NaN     NaN    NaN     NaN    NaN     NaN   \n",
      "\n",
      "                                               Notes Deaths  \n",
      "0  Merged with Ultron in Rage of Ultron Vol. 1. A...      1  \n",
      "1  Dies in Secret Invasion V1:I8. Actually was se...      1  \n",
      "\n",
      "[2 rows x 22 columns]\n"
     ]
    },
    {
     "name": "stderr",
     "output_type": "stream",
     "text": [
      "/Users/kunalbarde/anaconda/lib/python3.5/site-packages/ipykernel/__main__.py:11: SettingWithCopyWarning: \n",
      "A value is trying to be set on a copy of a slice from a DataFrame.\n",
      "Try using .loc[row_indexer,col_indexer] = value instead\n",
      "\n",
      "See the caveats in the documentation: http://pandas.pydata.org/pandas-docs/stable/indexing.html#indexing-view-versus-copy\n"
     ]
    }
   ],
   "source": [
    "def deaths(row):\n",
    "    cols = ['Death1', 'Death2', 'Death3', 'Death4', 'Death5']\n",
    "    num_of_deaths = 0\n",
    "    for c in cols:\n",
    "        if row[c] == 'YES':\n",
    "            num_of_deaths += 1\n",
    "        else:\n",
    "            continue\n",
    "    return num_of_deaths\n",
    "\n",
    "true_avengers['Deaths'] = true_avengers.apply(deaths, axis=1)\n",
    "print(true_avengers.head(2))"
   ]
  },
  {
   "cell_type": "markdown",
   "metadata": {},
   "source": [
    "For each row in Avengers, we have multiple columns indicating Death1, Death2, .. Death5. We have consolidated the number of deaths into a single column 'Deaths'."
   ]
  },
  {
   "cell_type": "code",
   "execution_count": 9,
   "metadata": {
    "collapsed": false
   },
   "outputs": [
    {
     "name": "stdout",
     "output_type": "stream",
     "text": [
      "159\n",
      "159\n"
     ]
    }
   ],
   "source": [
    "joined_accuracy_count  = int()\n",
    "correct_joined_years = true_avengers[true_avengers['Years since joining'] == (2015 - true_avengers['Year'])]\n",
    "joined_accuracy_count = len(correct_joined_years)\n",
    "print(joined_accuracy_count)\n",
    "print(true_avengers.shape[0])"
   ]
  },
  {
   "cell_type": "markdown",
   "metadata": {},
   "source": [
    "We here are trying to verify if the 'Year since joining' column actually coordinates with the difference between the 'Year' column and the year '2015'. We can see that all the entries are infact true."
   ]
  }
 ],
 "metadata": {
  "kernelspec": {
   "display_name": "Python 3",
   "language": "python",
   "name": "python3"
  },
  "language_info": {
   "codemirror_mode": {
    "name": "ipython",
    "version": 3
   },
   "file_extension": ".py",
   "mimetype": "text/x-python",
   "name": "python",
   "nbconvert_exporter": "python",
   "pygments_lexer": "ipython3",
   "version": "3.5.2"
  }
 },
 "nbformat": 4,
 "nbformat_minor": 0
}
