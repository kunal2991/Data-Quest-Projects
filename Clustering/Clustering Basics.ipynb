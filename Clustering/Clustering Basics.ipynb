{
 "cells": [
  {
   "cell_type": "code",
   "execution_count": 1,
   "metadata": {
    "collapsed": false
   },
   "outputs": [
    {
     "name": "stdout",
     "output_type": "stream",
     "text": [
      "        name party state    1    4    5    6    7    8    9   10   20   26  \\\n",
      "0  Alexander     R    TN  0.0  1.0  1.0  1.0  1.0  0.0  0.0  1.0  1.0  1.0   \n",
      "1     Ayotte     R    NH  0.0  1.0  1.0  1.0  1.0  0.0  0.0  1.0  0.0  1.0   \n",
      "2    Baldwin     D    WI  1.0  0.0  0.0  1.0  0.0  1.0  0.0  1.0  0.0  0.0   \n",
      "3   Barrasso     R    WY  0.0  1.0  1.0  1.0  1.0  0.0  1.0  1.0  1.0  1.0   \n",
      "4     Bennet     D    CO  0.0  0.0  0.0  1.0  0.0  1.0  0.0  1.0  0.0  0.0   \n",
      "\n",
      "    32   38   39   44   47  \n",
      "0  0.0  0.0  0.0  0.0  0.0  \n",
      "1  0.0  1.0  0.0  1.0  0.0  \n",
      "2  1.0  1.0  0.0  1.0  1.0  \n",
      "3  0.0  0.0  1.0  0.0  0.0  \n",
      "4  0.0  1.0  0.0  1.0  0.0  \n"
     ]
    }
   ],
   "source": [
    "import pandas as pd\n",
    "import matplotlib.pyplot as plt\n",
    "import seaborn as sns\n",
    "import numpy as np\n",
    "%matplotlib inline\n",
    "\n",
    "votes = pd.read_csv('114_congress.csv')\n",
    "print(votes.head())"
   ]
  },
  {
   "cell_type": "markdown",
   "metadata": {},
   "source": [
    "In the US, the Senate votes on proposed legislation. Getting a bill passed by the Senate is a key step towards getting its provisions enacted. A majority vote is required to get a bill passed.\n",
    "\n",
    "The results of these votes, known as roll call votes.\n",
    "\n",
    "Senators typically vote in accordance with how their political party votes, known as voting along party lines. In the US, the 2 main political parties are the Democrats, who tend to be liberal, and the Republicans, who tend to be conservative. Senators can also choose to be unaffiliated with a party, and vote as Independents, although very few choose to do so.\n",
    "\n",
    "114_congress.csv contains all of the results of roll call votes from the 114th Senate. Each row represents a single Senator, and each column represents a vote. A 0 in a cell means the Senator voted No on the bill, 1 means the Senator voted Yes, and 0.5 means the Senator abstained.\n",
    "\n",
    "Clustering voting data of Senators is particularly interesting because it can expose patterns that go deeper than party affiliation. For example, some Republicans are more liberal than the rest of their party. Looking at voting data can help us discover the Senators who are more or less in the mainstream of their party."
   ]
  },
  {
   "cell_type": "code",
   "execution_count": 2,
   "metadata": {
    "collapsed": false
   },
   "outputs": [
    {
     "name": "stdout",
     "output_type": "stream",
     "text": [
      "R    54\n",
      "D    44\n",
      "I     2\n",
      "Name: party, dtype: int64\n"
     ]
    }
   ],
   "source": [
    "print(votes['party'].value_counts())"
   ]
  },
  {
   "cell_type": "markdown",
   "metadata": {},
   "source": [
    "From the above output we can see that out of the 100 senator entries we have, 54 belong to the Republican Party, 44 belong to the Democratic Party and 2 are Independent."
   ]
  },
  {
   "cell_type": "code",
   "execution_count": 3,
   "metadata": {
    "collapsed": false
   },
   "outputs": [
    {
     "name": "stdout",
     "output_type": "stream",
     "text": [
      "1     0.325\n",
      "4     0.575\n",
      "5     0.535\n",
      "6     0.945\n",
      "7     0.545\n",
      "8     0.415\n",
      "9     0.545\n",
      "10    0.985\n",
      "20    0.525\n",
      "26    0.545\n",
      "32    0.410\n",
      "38    0.480\n",
      "39    0.510\n",
      "44    0.460\n",
      "47    0.370\n",
      "dtype: float64\n"
     ]
    }
   ],
   "source": [
    "print(votes.mean())"
   ]
  },
  {
   "cell_type": "markdown",
   "metadata": {},
   "source": [
    "Just the mean values for each columns indicating that if the mean value is less than 0.5, the bill was rejected or if greater than 0.5 then was accepted."
   ]
  },
  {
   "cell_type": "code",
   "execution_count": 5,
   "metadata": {
    "collapsed": false
   },
   "outputs": [
    {
     "name": "stdout",
     "output_type": "stream",
     "text": [
      "[[ 1.73205081]]\n"
     ]
    }
   ],
   "source": [
    "from sklearn.metrics.pairwise import euclidean_distances\n",
    "\n",
    "print(euclidean_distances(votes.iloc[0,3:].reshape(1,-1),votes.iloc[1,3:].reshape(1,-1)))"
   ]
  },
  {
   "cell_type": "markdown",
   "metadata": {},
   "source": [
    "Here, to calculate the distance between any 2 rows, we are using Euclidean Distance as our metric using the sklearn.metrics package."
   ]
  },
  {
   "cell_type": "code",
   "execution_count": 8,
   "metadata": {
    "collapsed": false
   },
   "outputs": [
    {
     "name": "stdout",
     "output_type": "stream",
     "text": [
      "[[ 3.12141628  1.3134775 ]\n",
      " [ 2.6146248   2.05339992]\n",
      " [ 0.33960656  3.41651746]]\n"
     ]
    }
   ],
   "source": [
    "from sklearn.cluster import KMeans\n",
    "\n",
    "kmeans_model = KMeans(n_clusters=2,random_state=1)\n",
    "senator_distances = kmeans_model.fit_transform(votes.iloc[:,3:])\n",
    "print(senator_distances[0:3])"
   ]
  },
  {
   "cell_type": "markdown",
   "metadata": {},
   "source": [
    "K-means clustering uses Euclidean distance to form clusters of similar Senators. \n",
    "\n",
    "The k-means algorithm will group Senators who vote similarly on bills together, in clusters. Each cluster is assigned a center, and the Euclidean distance from each Senator to the center is computed. Senators are assigned to clusters based on which one they are closest to. From our background knowledge, we think that Senators will cluster along party lines.\n",
    "\n",
    "The k-means algorithm requires us to specify the number of clusters upfront. Because we suspect that clusters will occur along party lines, and the vast majority of Senators are either Republicans or Democrats, we'll pick 2 for our number of clusters."
   ]
  },
  {
   "cell_type": "code",
   "execution_count": 9,
   "metadata": {
    "collapsed": false
   },
   "outputs": [
    {
     "name": "stdout",
     "output_type": "stream",
     "text": [
      "party   D  I   R\n",
      "row_0           \n",
      "0      41  2   0\n",
      "1       3  0  54\n"
     ]
    }
   ],
   "source": [
    "labels = kmeans_model.labels_\n",
    "print(pd.crosstab(labels,votes['party']))"
   ]
  },
  {
   "cell_type": "markdown",
   "metadata": {},
   "source": [
    "We can use the Pandas method crosstab() to compute and display how many Senators from each party ended up in each cluster. The crosstab() method takes in two vectors or Pandas Series and computes how many times each unique value in the second vector occurs for each unique value in the first vector.\n",
    "\n",
    "It looks like both of our clusters mostly broke down along party lines. The first cluster contains 41 Democrats, and both Independents. The second cluster contains 3 Democrats, and 54 Republicans.\n",
    "\n",
    "No Republicans seem to have broken party ranks to vote with the Democrats, but 3 Democrats are more similar to Republicans in their voting than their own party. Let's explore these 3 in more depth so we can figure out why that is."
   ]
  },
  {
   "cell_type": "code",
   "execution_count": 11,
   "metadata": {
    "collapsed": false
   },
   "outputs": [
    {
     "name": "stdout",
     "output_type": "stream",
     "text": [
      "         name party state    1    4    5    6    7    8    9   10   20   26  \\\n",
      "2     Baldwin     D    WI  1.0  0.0  0.0  1.0  0.0  1.0  0.0  1.0  0.0  0.0   \n",
      "4      Bennet     D    CO  0.0  0.0  0.0  1.0  0.0  1.0  0.0  1.0  0.0  0.0   \n",
      "5  Blumenthal     D    CT  1.0  0.0  0.0  1.0  0.0  1.0  0.0  1.0  0.0  0.0   \n",
      "7      Booker     D    NJ  1.0  0.0  0.0  1.0  0.0  1.0  0.0  1.0  0.0  0.0   \n",
      "9       Boxer     D    CA  0.5  0.0  0.0  1.0  0.0  1.0  0.0  1.0  0.0  0.0   \n",
      "\n",
      "    32   38   39   44   47  \n",
      "2  1.0  1.0  0.0  1.0  1.0  \n",
      "4  0.0  1.0  0.0  1.0  0.0  \n",
      "5  1.0  1.0  0.0  1.0  1.0  \n",
      "7  1.0  1.0  0.0  1.0  1.0  \n",
      "9  1.0  1.0  0.0  1.0  1.0  \n"
     ]
    }
   ],
   "source": [
    "democratic_outliers = votes[(labels == 0) & (votes['party'] == 'D')]\n",
    "print(democratic_outliers.head())"
   ]
  },
  {
   "cell_type": "code",
   "execution_count": 12,
   "metadata": {
    "collapsed": false
   },
   "outputs": [
    {
     "data": {
      "image/png": "[encoded data removed]",
      "text/plain": [
       "<matplotlib.figure.Figure at 0x119e2eba8>"
      ]
     },
     "metadata": {},
     "output_type": "display_data"
    }
   ],
   "source": [
    "plt.scatter(senator_distances[:,0],senator_distances[:,1],c=labels)\n",
    "plt.show()"
   ]
  },
  {
   "cell_type": "markdown",
   "metadata": {},
   "source": [
    "One great way to explore clusters is to visualize them using matplotlib. Earlier, we computed a senator_distances array that shows the distance from each Senator to the center of each cluster. We can treat these distances as x and y coordinates, and make a scatterplot that shows the position of each Senator. This works because the distances are relative to the cluster centers.\n",
    "\n",
    "The most extreme Senators are those who are the furthest away from one cluster. For example, a radical Republican would be as far from the Democratic cluster as possible. Senators who are in between both clusters are more moderate, as they fall in between the views of the two parties."
   ]
  },
  {
   "cell_type": "code",
   "execution_count": 14,
   "metadata": {
    "collapsed": false
   },
   "outputs": [
    {
     "name": "stdout",
     "output_type": "stream",
     "text": [
      "        name party state    1    4    5    6    7    8    9   10   20   26  \\\n",
      "98    Wicker     R    MS  0.0  1.0  1.0  1.0  1.0  0.0  1.0  0.0  1.0  1.0   \n",
      "53  Lankford     R    OK  0.0  1.0  1.0  0.0  1.0  0.0  1.0  1.0  1.0  1.0   \n",
      "26      Cruz     R    TX  0.0  1.0  1.0  0.0  1.0  0.0  1.0  1.0  1.0  1.0   \n",
      "80     Sasse     R    NE  0.0  1.0  1.0  0.0  1.0  0.0  1.0  1.0  1.0  1.0   \n",
      "69      Paul     R    KY  0.0  1.0  1.0  0.0  1.0  0.0  1.0  1.0  1.0  1.0   \n",
      "86    Shelby     R    AL  0.0  1.0  1.0  1.0  1.0  0.0  1.0  1.0  1.0  1.0   \n",
      "33   Fischer     R    NE  0.0  1.0  1.0  1.0  1.0  0.0  1.0  1.0  1.0  1.0   \n",
      "34     Flake     R    AZ  0.0  1.0  1.0  1.0  1.0  0.0  1.0  1.0  1.0  1.0   \n",
      "91    Tillis     R    NC  0.0  1.0  1.0  1.0  1.0  0.0  1.0  1.0  1.0  1.0   \n",
      "90     Thune     R    SD  0.0  1.0  1.0  1.0  1.0  0.0  1.0  1.0  1.0  1.0   \n",
      "\n",
      "     32   38   39   44   47     extremism  \n",
      "98  0.0  0.0  1.0  0.0  0.0  92601.491488  \n",
      "53  0.0  0.0  1.0  0.0  0.0  92600.986786  \n",
      "26  0.0  0.0  1.0  0.0  0.0  92600.986786  \n",
      "80  0.0  0.0  1.0  0.0  0.0  92600.986786  \n",
      "69  0.0  0.0  1.0  0.0  0.0  92600.986786  \n",
      "86  0.0  0.0  1.0  0.0  0.0  64016.179536  \n",
      "33  0.0  0.0  1.0  0.0  0.0  64016.179536  \n",
      "34  0.0  0.0  1.0  0.0  0.0  64016.179536  \n",
      "91  0.0  0.0  1.0  0.0  0.0  64016.179536  \n",
      "90  0.0  0.0  1.0  0.0  0.0  64016.179536  \n"
     ]
    }
   ],
   "source": [
    "senator_distances = senator_distances ** 3\n",
    "extremism = np.sum(senator_distances,axis=1)\n",
    "votes['extremism'] = extremism\n",
    "votes.sort_values('extremism',ascending=False,inplace=True)\n",
    "print(votes.head(10))"
   ]
  },
  {
   "cell_type": "markdown",
   "metadata": {},
   "source": [
    "The above output shows the top 10 most extreme senators. We have customized a formula for finding the extremism within the voting patterns for a senator by cubing every value in senator_distances and then adding values in each row to get the \"extremism\" score for each senator."
   ]
  }
 ],
 "metadata": {
  "kernelspec": {
   "display_name": "Python 3",
   "language": "python",
   "name": "python3"
  },
  "language_info": {
   "codemirror_mode": {
    "name": "ipython",
    "version": 3
   },
   "file_extension": ".py",
   "mimetype": "text/x-python",
   "name": "python",
   "nbconvert_exporter": "python",
   "pygments_lexer": "ipython3",
   "version": "3.5.2"
  }
 },
 "nbformat": 4,
 "nbformat_minor": 0
}
