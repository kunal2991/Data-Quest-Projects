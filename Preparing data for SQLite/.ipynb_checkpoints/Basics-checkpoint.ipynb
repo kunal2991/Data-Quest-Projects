{
 "cells": [
  {
   "cell_type": "code",
   "execution_count": 27,
   "metadata": {
    "collapsed": false
   },
   "outputs": [
    {
     "name": "stdout",
     "output_type": "stream",
     "text": [
      "          Year               Category          Nominee  \\\n",
      "0  2010 (83rd)  Actor -- Leading Role    Javier Bardem   \n",
      "1  2010 (83rd)  Actor -- Leading Role     Jeff Bridges   \n",
      "2  2010 (83rd)  Actor -- Leading Role  Jesse Eisenberg   \n",
      "3  2010 (83rd)  Actor -- Leading Role      Colin Firth   \n",
      "4  2010 (83rd)  Actor -- Leading Role     James Franco   \n",
      "\n",
      "                          Additional Info Won? Unnamed: 5 Unnamed: 6  \\\n",
      "0                      Biutiful {'Uxbal'}   NO        NaN        NaN   \n",
      "1           True Grit {'Rooster Cogburn'}   NO        NaN        NaN   \n",
      "2  The Social Network {'Mark Zuckerberg'}   NO        NaN        NaN   \n",
      "3    The King's Speech {'King George VI'}  YES        NaN        NaN   \n",
      "4              127 Hours {'Aron Ralston'}   NO        NaN        NaN   \n",
      "\n",
      "  Unnamed: 7 Unnamed: 8 Unnamed: 9 Unnamed: 10  \n",
      "0        NaN        NaN        NaN         NaN  \n",
      "1        NaN        NaN        NaN         NaN  \n",
      "2        NaN        NaN        NaN         NaN  \n",
      "3        NaN        NaN        NaN         NaN  \n",
      "4        NaN        NaN        NaN         NaN  \n"
     ]
    }
   ],
   "source": [
    "import pandas as pd\n",
    "academy_awards = pd.read_csv('academy_awards.csv',encoding='ISO-8859-1')\n",
    "print(academy_awards.head(5))"
   ]
  },
  {
   "cell_type": "code",
   "execution_count": 28,
   "metadata": {
    "collapsed": false
   },
   "outputs": [
    {
     "data": {
      "text/plain": [
       "Metro-Goldwyn-Mayer              60\n",
       "Walt Disney, Producer            57\n",
       "Warner Bros.                     42\n",
       "John Williams                    37\n",
       "France                           35\n",
       "Alfred Newman                    34\n",
       "Italy                            26\n",
       "Paramount                        24\n",
       "Edith Head                       22\n",
       "Gordon Hollingshead, Producer    22\n",
       "20th Century-Fox                 20\n",
       "RKO Radio                        20\n",
       "Victor Young                     19\n",
       "Spain                            19\n",
       "Leon Shamroy                     17\n",
       "...\n",
       "Tim Squyres                                            1\n",
       "My Foolish Heart {'Eloise Winters'}                    1\n",
       "Four Daughters {'Mickey Borden'}                       1\n",
       "George Lucas, Gloria Katz, Willard Huyck               1\n",
       "Wes Anderson                                           1\n",
       "Charles Brackett, Billy Wilder, D. M. Marshman, Jr.    1\n",
       "Richard Killberg and Yvonne Smith, Producers           1\n",
       "Barry J.C. Purves                                      1\n",
       "Ring Lardner, Jr., Michael Kanin                       1\n",
       "Hugo Niebeling, Producer                               1\n",
       "Menno Meyjes                                           1\n",
       "Louis Brock, Producer [came in 2nd]                    1\n",
       "Paul Mazursky and Tony Ray, Producers                  1\n",
       "Russell Bennett                                        1\n",
       "Ann Wingate, Producer                                  1\n",
       "Length: 6424, dtype: int64"
      ]
     },
     "execution_count": 28,
     "metadata": {},
     "output_type": "execute_result"
    }
   ],
   "source": [
    "academy_awards['Additional Info'].value_counts()"
   ]
  },
  {
   "cell_type": "code",
   "execution_count": 29,
   "metadata": {
    "collapsed": false
   },
   "outputs": [],
   "source": [
    "year_updated = academy_awards['Year'].str[0:4]\n",
    "academy_awards['Year'] = year_updated\n",
    "academy_awards['Year'] = academy_awards['Year'].astype(int)"
   ]
  },
  {
   "cell_type": "code",
   "execution_count": 30,
   "metadata": {
    "collapsed": false
   },
   "outputs": [
    {
     "name": "stdout",
     "output_type": "stream",
     "text": [
      "   Year               Category        Nominee                Additional Info  \\\n",
      "0  2010  Actor -- Leading Role  Javier Bardem             Biutiful {'Uxbal'}   \n",
      "1  2010  Actor -- Leading Role   Jeff Bridges  True Grit {'Rooster Cogburn'}   \n",
      "\n",
      "  Won? Unnamed: 5 Unnamed: 6 Unnamed: 7 Unnamed: 8 Unnamed: 9 Unnamed: 10  \n",
      "0   NO        NaN        NaN        NaN        NaN        NaN         NaN  \n",
      "1   NO        NaN        NaN        NaN        NaN        NaN         NaN  \n"
     ]
    }
   ],
   "source": [
    "later_than_2000 = academy_awards[academy_awards['Year']>2000]\n",
    "print(later_than_2000.head(2))"
   ]
  },
  {
   "cell_type": "code",
   "execution_count": 31,
   "metadata": {
    "collapsed": false
   },
   "outputs": [
    {
     "name": "stdout",
     "output_type": "stream",
     "text": [
      "   Year               Category          Nominee  \\\n",
      "0  2010  Actor -- Leading Role    Javier Bardem   \n",
      "1  2010  Actor -- Leading Role     Jeff Bridges   \n",
      "2  2010  Actor -- Leading Role  Jesse Eisenberg   \n",
      "3  2010  Actor -- Leading Role      Colin Firth   \n",
      "4  2010  Actor -- Leading Role     James Franco   \n",
      "\n",
      "                          Additional Info Won? Unnamed: 5 Unnamed: 6  \\\n",
      "0                      Biutiful {'Uxbal'}   NO        NaN        NaN   \n",
      "1           True Grit {'Rooster Cogburn'}   NO        NaN        NaN   \n",
      "2  The Social Network {'Mark Zuckerberg'}   NO        NaN        NaN   \n",
      "3    The King's Speech {'King George VI'}  YES        NaN        NaN   \n",
      "4              127 Hours {'Aron Ralston'}   NO        NaN        NaN   \n",
      "\n",
      "  Unnamed: 7 Unnamed: 8 Unnamed: 9 Unnamed: 10  \n",
      "0        NaN        NaN        NaN         NaN  \n",
      "1        NaN        NaN        NaN         NaN  \n",
      "2        NaN        NaN        NaN         NaN  \n",
      "3        NaN        NaN        NaN         NaN  \n",
      "4        NaN        NaN        NaN         NaN  \n"
     ]
    }
   ],
   "source": [
    "award_categories = ['Actor -- Leading Role','Actor -- Supporting Role','Actress -- Leading Role','Actress -- Supporting Role']\n",
    "nominations = later_than_2000[later_than_2000['Category'].isin(award_categories)]\n",
    "print(nominations.head(5))"
   ]
  },
  {
   "cell_type": "code",
   "execution_count": 37,
   "metadata": {
    "collapsed": false
   },
   "outputs": [
    {
     "name": "stdout",
     "output_type": "stream",
     "text": [
      "0    160\n",
      "1     40\n",
      "dtype: int64\n"
     ]
    }
   ],
   "source": [
    "won = nominations['Won?']\n",
    "replace_dict = {\"YES\":1,\"NO\":0}\n",
    "won_replaced = won.map(replace_dict)\n",
    "print(won_replaced.value_counts())"
   ]
  },
  {
   "cell_type": "code",
   "execution_count": 38,
   "metadata": {
    "collapsed": false
   },
   "outputs": [
    {
     "name": "stdout",
     "output_type": "stream",
     "text": [
      "   Year               Category          Nominee  \\\n",
      "0  2010  Actor -- Leading Role    Javier Bardem   \n",
      "1  2010  Actor -- Leading Role     Jeff Bridges   \n",
      "2  2010  Actor -- Leading Role  Jesse Eisenberg   \n",
      "3  2010  Actor -- Leading Role      Colin Firth   \n",
      "4  2010  Actor -- Leading Role     James Franco   \n",
      "\n",
      "                          Additional Info  Won  \n",
      "0                      Biutiful {'Uxbal'}    0  \n",
      "1           True Grit {'Rooster Cogburn'}    0  \n",
      "2  The Social Network {'Mark Zuckerberg'}    0  \n",
      "3    The King's Speech {'King George VI'}    1  \n",
      "4              127 Hours {'Aron Ralston'}    0  \n"
     ]
    },
    {
     "name": "stderr",
     "output_type": "stream",
     "text": [
      "/opt/dsserver/lib/python3.4/site-packages/IPython/kernel/__main__.py:1: SettingWithCopyWarning: \n",
      "A value is trying to be set on a copy of a slice from a DataFrame.\n",
      "Try using .loc[row_indexer,col_indexer] = value instead\n",
      "\n",
      "See the the caveats in the documentation: http://pandas.pydata.org/pandas-docs/stable/indexing.html#indexing-view-versus-copy\n",
      "  if __name__ == '__main__':\n",
      "/opt/dsserver/lib/python3.4/site-packages/IPython/kernel/__main__.py:2: SettingWithCopyWarning: \n",
      "A value is trying to be set on a copy of a slice from a DataFrame.\n",
      "Try using .loc[row_indexer,col_indexer] = value instead\n",
      "\n",
      "See the the caveats in the documentation: http://pandas.pydata.org/pandas-docs/stable/indexing.html#indexing-view-versus-copy\n",
      "  from IPython.kernel.zmq import kernelapp as app\n"
     ]
    }
   ],
   "source": [
    "nominations['Won?'] = won_replaced\n",
    "nominations['Won'] = won_replaced\n",
    "final_nominations = nominations.drop(['Won?','Unnamed: 5','Unnamed: 6','Unnamed: 7','Unnamed: 8','Unnamed: 9','Unnamed: 10'],axis =1)\n",
    "print(final_nominations.head(5))"
   ]
  },
  {
   "cell_type": "code",
   "execution_count": 45,
   "metadata": {
    "collapsed": false
   },
   "outputs": [
    {
     "name": "stdout",
     "output_type": "stream",
     "text": [
      "                 Movie        Character\n",
      "0            Biutiful             Uxbal\n",
      "1           True Grit   Rooster Cogburn\n",
      "2  The Social Network   Mark Zuckerberg\n",
      "3   The King's Speech    King George VI\n",
      "4           127 Hours      Aron Ralston\n"
     ]
    }
   ],
   "source": [
    "additional_info = final_nominations['Additional Info']\n",
    "additional_info_one = additional_info.str.rstrip(\"'}\")\n",
    "#print(additional_info_one)\n",
    "additional_info_two = additional_info_one.str.split(\"{'\")\n",
    "#print(additional_info_two)\n",
    "movie_names = additional_info_two.str[0]\n",
    "characters = additional_info_two.str[1]\n",
    "final_nominations['Movie'] = movie_names\n",
    "final_nominations['Character'] = characters\n",
    "print(final_nominations[['Movie','Character']].head(5))"
   ]
  },
  {
   "cell_type": "code",
   "execution_count": 49,
   "metadata": {
    "collapsed": false
   },
   "outputs": [],
   "source": [
    "final_nominations.drop('Additional Info',inplace=True,axis=1)"
   ]
  },
  {
   "cell_type": "code",
   "execution_count": 50,
   "metadata": {
    "collapsed": false
   },
   "outputs": [
    {
     "name": "stdout",
     "output_type": "stream",
     "text": [
      "      Year                    Category               Nominee  Won  \\\n",
      "0     2010       Actor -- Leading Role         Javier Bardem    0   \n",
      "1     2010       Actor -- Leading Role          Jeff Bridges    0   \n",
      "2     2010       Actor -- Leading Role       Jesse Eisenberg    0   \n",
      "3     2010       Actor -- Leading Role           Colin Firth    1   \n",
      "4     2010       Actor -- Leading Role          James Franco    0   \n",
      "5     2010    Actor -- Supporting Role        Christian Bale    1   \n",
      "6     2010    Actor -- Supporting Role           John Hawkes    0   \n",
      "7     2010    Actor -- Supporting Role         Jeremy Renner    0   \n",
      "8     2010    Actor -- Supporting Role          Mark Ruffalo    0   \n",
      "9     2010    Actor -- Supporting Role         Geoffrey Rush    0   \n",
      "10    2010     Actress -- Leading Role        Annette Bening    0   \n",
      "11    2010     Actress -- Leading Role         Nicole Kidman    0   \n",
      "12    2010     Actress -- Leading Role     Jennifer Lawrence    0   \n",
      "13    2010     Actress -- Leading Role       Natalie Portman    1   \n",
      "14    2010     Actress -- Leading Role     Michelle Williams    0   \n",
      "15    2010  Actress -- Supporting Role             Amy Adams    0   \n",
      "16    2010  Actress -- Supporting Role  Helena Bonham Carter    0   \n",
      "17    2010  Actress -- Supporting Role           Melissa Leo    1   \n",
      "18    2010  Actress -- Supporting Role      Hailee Steinfeld    0   \n",
      "19    2010  Actress -- Supporting Role          Jacki Weaver    0   \n",
      "135   2009       Actor -- Leading Role          Jeff Bridges    1   \n",
      "136   2009       Actor -- Leading Role        George Clooney    0   \n",
      "137   2009       Actor -- Leading Role           Colin Firth    0   \n",
      "138   2009       Actor -- Leading Role        Morgan Freeman    0   \n",
      "139   2009       Actor -- Leading Role         Jeremy Renner    0   \n",
      "140   2009    Actor -- Supporting Role            Matt Damon    0   \n",
      "141   2009    Actor -- Supporting Role       Woody Harrelson    0   \n",
      "142   2009    Actor -- Supporting Role   Christopher Plummer    0   \n",
      "143   2009    Actor -- Supporting Role         Stanley Tucci    0   \n",
      "144   2009    Actor -- Supporting Role       Christoph Waltz    1   \n",
      "...    ...                         ...                   ...  ...   \n",
      "1040  2002     Actress -- Leading Role           Salma Hayek    0   \n",
      "1041  2002     Actress -- Leading Role         Nicole Kidman    1   \n",
      "1042  2002     Actress -- Leading Role            Diane Lane    0   \n",
      "1043  2002     Actress -- Leading Role        Julianne Moore    0   \n",
      "1044  2002     Actress -- Leading Role       Renée Zellweger    0   \n",
      "1045  2002  Actress -- Supporting Role           Kathy Bates    0   \n",
      "1046  2002  Actress -- Supporting Role        Julianne Moore    0   \n",
      "1047  2002  Actress -- Supporting Role         Queen Latifah    0   \n",
      "1048  2002  Actress -- Supporting Role          Meryl Streep    0   \n",
      "1049  2002  Actress -- Supporting Role  Catherine Zeta-Jones    1   \n",
      "1157  2001       Actor -- Leading Role         Russell Crowe    0   \n",
      "1158  2001       Actor -- Leading Role             Sean Penn    0   \n",
      "1159  2001       Actor -- Leading Role            Will Smith    0   \n",
      "1160  2001       Actor -- Leading Role     Denzel Washington    1   \n",
      "1161  2001       Actor -- Leading Role         Tom Wilkinson    0   \n",
      "1162  2001    Actor -- Supporting Role         Jim Broadbent    1   \n",
      "1163  2001    Actor -- Supporting Role           Ethan Hawke    0   \n",
      "1164  2001    Actor -- Supporting Role          Ben Kingsley    0   \n",
      "1165  2001    Actor -- Supporting Role          Ian McKellen    0   \n",
      "1166  2001    Actor -- Supporting Role            Jon Voight    0   \n",
      "1167  2001     Actress -- Leading Role           Halle Berry    1   \n",
      "1168  2001     Actress -- Leading Role            Judi Dench    0   \n",
      "1169  2001     Actress -- Leading Role         Nicole Kidman    0   \n",
      "1170  2001     Actress -- Leading Role          Sissy Spacek    0   \n",
      "1171  2001     Actress -- Leading Role       Renée Zellweger    0   \n",
      "1172  2001  Actress -- Supporting Role     Jennifer Connelly    1   \n",
      "1173  2001  Actress -- Supporting Role          Helen Mirren    0   \n",
      "1174  2001  Actress -- Supporting Role          Maggie Smith    0   \n",
      "1175  2001  Actress -- Supporting Role          Marisa Tomei    0   \n",
      "1176  2001  Actress -- Supporting Role          Kate Winslet    0   \n",
      "\n",
      "                                                  Movie  \\\n",
      "0                                             Biutiful    \n",
      "1                                            True Grit    \n",
      "2                                   The Social Network    \n",
      "3                                    The King's Speech    \n",
      "4                                            127 Hours    \n",
      "5                                          The Fighter    \n",
      "6                                        Winter's Bone    \n",
      "7                                             The Town    \n",
      "8                               The Kids Are All Right    \n",
      "9                                    The King's Speech    \n",
      "10                              The Kids Are All Right    \n",
      "11                                         Rabbit Hole    \n",
      "12                                       Winter's Bone    \n",
      "13                                          Black Swan    \n",
      "14                                      Blue Valentine    \n",
      "15                                         The Fighter    \n",
      "16                                   The King's Speech    \n",
      "17                                         The Fighter    \n",
      "18                                           True Grit    \n",
      "19                                      Animal Kingdom    \n",
      "135                                        Crazy Heart    \n",
      "136                                      Up in the Air    \n",
      "137                                       A Single Man    \n",
      "138                                           Invictus    \n",
      "139                                    The Hurt Locker    \n",
      "140                                           Invictus    \n",
      "141                                      The Messenger    \n",
      "142                                   The Last Station    \n",
      "143                                   The Lovely Bones    \n",
      "144                               Inglourious Basterds    \n",
      "...                                                 ...   \n",
      "1040                                             Frida    \n",
      "1041                                         The Hours    \n",
      "1042                                        Unfaithful    \n",
      "1043                                   Far from Heaven    \n",
      "1044                                           Chicago    \n",
      "1045                                     About Schmidt    \n",
      "1046                                         The Hours    \n",
      "1047                                           Chicago    \n",
      "1048                                        Adaptation    \n",
      "1049                                           Chicago    \n",
      "1157                                  A Beautiful Mind    \n",
      "1158                                          I Am Sam    \n",
      "1159                                               Ali    \n",
      "1160                                      Training Day    \n",
      "1161                                    In the Bedroom    \n",
      "1162                                              Iris    \n",
      "1163                                      Training Day    \n",
      "1164                                        Sexy Beast    \n",
      "1165  The Lord of the Rings: The Fellowship of the R...   \n",
      "1166                                               Ali    \n",
      "1167                                    Monster's Ball    \n",
      "1168                                              Iris    \n",
      "1169                                      Moulin Rouge    \n",
      "1170                                    In the Bedroom    \n",
      "1171                             Bridget Jones's Diary    \n",
      "1172                                  A Beautiful Mind    \n",
      "1173                                      Gosford Park    \n",
      "1174                                      Gosford Park    \n",
      "1175                                    In the Bedroom    \n",
      "1176                                              Iris    \n",
      "\n",
      "                            Character  \n",
      "0                               Uxbal  \n",
      "1                     Rooster Cogburn  \n",
      "2                     Mark Zuckerberg  \n",
      "3                      King George VI  \n",
      "4                        Aron Ralston  \n",
      "5                        Dicky Eklund  \n",
      "6                            Teardrop  \n",
      "7                      James Coughlin  \n",
      "8                                Paul  \n",
      "9                        Lionel Logue  \n",
      "10                                Nic  \n",
      "11                              Becca  \n",
      "12                                Ree  \n",
      "13         Nina Sayers/The Swan Queen  \n",
      "14                              Cindy  \n",
      "15                   Charlene Fleming  \n",
      "16                    Queen Elizabeth  \n",
      "17                         Alice Ward  \n",
      "18                        Mattie Ross  \n",
      "19                Janine 'Smurf' Cody  \n",
      "135                         Bad Blake  \n",
      "136                      Ryan Bingham  \n",
      "137                            George  \n",
      "138                    Nelson Mandela  \n",
      "139      Staff Sergeant William James  \n",
      "140                  Francois Pienaar  \n",
      "141                Captain Tony Stone  \n",
      "142                           Tolstoy  \n",
      "143                     George Harvey  \n",
      "144                   Col. Hans Landa  \n",
      "...                               ...  \n",
      "1040                      Frida Kahlo  \n",
      "1041                   Virginia Woolf  \n",
      "1042                    Connie Sumner  \n",
      "1043                   Cathy Whitaker  \n",
      "1044                       Roxie Hart  \n",
      "1045                  Roberta Hertzel  \n",
      "1046                      Laura Brown  \n",
      "1047               Matron Mama Morton  \n",
      "1048                     Susan Orlean  \n",
      "1049                      Velma Kelly  \n",
      "1157                        John Nash  \n",
      "1158                       Sam Dawson  \n",
      "1159                     Muhammad Ali  \n",
      "1160                           Alonzo  \n",
      "1161                      Matt Fowler  \n",
      "1162                      John Bayley  \n",
      "1163                             Jake  \n",
      "1164                        Don Logan  \n",
      "1165                          Gandalf  \n",
      "1166                    Howard Cosell  \n",
      "1167                 Leticia Musgrove  \n",
      "1168                     Iris Murdoch  \n",
      "1169                           Satine  \n",
      "1170                      Ruth Fowler  \n",
      "1171                    Bridget Jones  \n",
      "1172                      Alicia Nash  \n",
      "1173                      Mrs. Wilson  \n",
      "1174  Constance, Countess of Trentham  \n",
      "1175                   Natalie Strout  \n",
      "1176               Young Iris Murdoch  \n",
      "\n",
      "[200 rows x 6 columns]\n"
     ]
    }
   ],
   "source": [
    "print(final_nominations)"
   ]
  },
  {
   "cell_type": "code",
   "execution_count": null,
   "metadata": {
    "collapsed": true
   },
   "outputs": [],
   "source": []
  }
 ],
 "metadata": {
  "kernelspec": {
   "display_name": "Python 3",
   "language": "python",
   "name": "python3"
  },
  "language_info": {
   "codemirror_mode": {
    "name": "ipython",
    "version": 3
   },
   "file_extension": ".py",
   "mimetype": "text/x-python",
   "name": "python",
   "nbconvert_exporter": "python",
   "pygments_lexer": "ipython3",
   "version": "3.4.3"
  }
 },
 "nbformat": 4,
 "nbformat_minor": 0
}
