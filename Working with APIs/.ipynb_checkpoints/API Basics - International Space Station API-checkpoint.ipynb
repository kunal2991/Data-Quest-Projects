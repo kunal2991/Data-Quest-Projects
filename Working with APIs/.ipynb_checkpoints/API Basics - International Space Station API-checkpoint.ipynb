{
 "cells": [
  {
   "cell_type": "code",
   "execution_count": 2,
   "metadata": {
    "collapsed": false
   },
   "outputs": [
    {
     "name": "stdout",
     "output_type": "stream",
     "text": [
      "200\n"
     ]
    }
   ],
   "source": [
    "import requests\n",
    "\n",
    "response = requests.get('http://api.open-notify.org/iss-now.json')\n",
    "status_code = response.status_code\n",
    "print(status_code)"
   ]
  },
  {
   "cell_type": "markdown",
   "metadata": {},
   "source": [
    "Requests library in Python to access and retrieve data from API using GET Request.\n",
    "Status Code: Code to indicate whether everything went okay or not, different status codes for different replies."
   ]
  },
  {
   "cell_type": "code",
   "execution_count": 3,
   "metadata": {
    "collapsed": false
   },
   "outputs": [
    {
     "name": "stdout",
     "output_type": "stream",
     "text": [
      "404\n"
     ]
    }
   ],
   "source": [
    "response = requests.get('http://api.open-notify.org/iss-pass')\n",
    "status_code = response.status_code\n",
    "print(status_code)"
   ]
  },
  {
   "cell_type": "markdown",
   "metadata": {},
   "source": [
    "Status Code 404: Indicating the resource requested was not found on Server or the end-point was not valid. In this case, the end-point was not valid since .json was not added to the end of the end-point name."
   ]
  },
  {
   "cell_type": "code",
   "execution_count": 4,
   "metadata": {
    "collapsed": false
   },
   "outputs": [
    {
     "name": "stdout",
     "output_type": "stream",
     "text": [
      "400\n"
     ]
    }
   ],
   "source": [
    "response = requests.get('http://api.open-notify.org/iss-pass.json')\n",
    "status_code = response.status_code\n",
    "print(status_code)"
   ]
  },
  {
   "cell_type": "markdown",
   "metadata": {},
   "source": [
    "Status Code 400: Indicating that a bad request was made. In this case, we have to pass 2 parameters, lat and lon i.e the coordinates of where we want."
   ]
  },
  {
   "cell_type": "code",
   "execution_count": 5,
   "metadata": {
    "collapsed": false
   },
   "outputs": [
    {
     "name": "stdout",
     "output_type": "stream",
     "text": [
      "b'{\\n  \"message\": \"success\", \\n  \"request\": {\\n    \"altitude\": 100, \\n    \"datetime\": 1475258368, \\n    \"latitude\": 40.71, \\n    \"longitude\": -74.0, \\n    \"passes\": 5\\n  }, \\n  \"response\": [\\n    {\\n      \"duration\": 116, \\n      \"risetime\": 1475270687\\n    }, \\n    {\\n      \"duration\": 611, \\n      \"risetime\": 1475276175\\n    }, \\n    {\\n      \"duration\": 622, \\n      \"risetime\": 1475281956\\n    }, \\n    {\\n      \"duration\": 553, \\n      \"risetime\": 1475287824\\n    }, \\n    {\\n      \"duration\": 567, \\n      \"risetime\": 1475293669\\n    }\\n  ]\\n}\\n'\n"
     ]
    }
   ],
   "source": [
    "parameters = {'lat': 40.71, 'lon': -74}\n",
    "response = requests.get('http://api.open-notify.org/iss-pass.json',params=parameters)\n",
    "print(response.content)"
   ]
  },
  {
   "cell_type": "code",
   "execution_count": 6,
   "metadata": {
    "collapsed": false
   },
   "outputs": [
    {
     "name": "stdout",
     "output_type": "stream",
     "text": [
      "b'{\\n  \"message\": \"success\", \\n  \"request\": {\\n    \"altitude\": 100, \\n    \"datetime\": 1475258421, \\n    \"latitude\": 37.78, \\n    \"longitude\": -122.41, \\n    \"passes\": 5\\n  }, \\n  \"response\": [\\n    {\\n      \"duration\": 198, \\n      \"risetime\": 1475281707\\n    }, \\n    {\\n      \"duration\": 621, \\n      \"risetime\": 1475287237\\n    }, \\n    {\\n      \"duration\": 602, \\n      \"risetime\": 1475293040\\n    }, \\n    {\\n      \"duration\": 489, \\n      \"risetime\": 1475298943\\n    }, \\n    {\\n      \"duration\": 500, \\n      \"risetime\": 1475304808\\n    }\\n  ]\\n}\\n'\n"
     ]
    }
   ],
   "source": [
    "parameters = {'lat': 37.78, 'lon': -122.41}\n",
    "response = requests.get('http://api.open-notify.org/iss-pass.json',params=parameters)\n",
    "content = response.content\n",
    "print(content)"
   ]
  },
  {
   "cell_type": "markdown",
   "metadata": {},
   "source": [
    "Passing Latitude and Longitude parameters and retrieving the content."
   ]
  },
  {
   "cell_type": "code",
   "execution_count": 7,
   "metadata": {
    "collapsed": false
   },
   "outputs": [
    {
     "name": "stdout",
     "output_type": "stream",
     "text": [
      "<class 'dict'>\n",
      "{'response': [{'duration': 198, 'risetime': 1475281707}, {'duration': 621, 'risetime': 1475287237}, {'duration': 602, 'risetime': 1475293040}, {'duration': 489, 'risetime': 1475298943}, {'duration': 500, 'risetime': 1475304808}], 'message': 'success', 'request': {'longitude': -122.41, 'latitude': 37.78, 'datetime': 1475261523, 'altitude': 100, 'passes': 5}}\n"
     ]
    }
   ],
   "source": [
    "import json\n",
    "\n",
    "parameters = {\"lat\": 37.78, \"lon\": -122.41}\n",
    "response = requests.get(\"http://api.open-notify.org/iss-pass.json\", params=parameters)\n",
    "\n",
    "data = response.json()\n",
    "print(type(data))\n",
    "print(data)"
   ]
  },
  {
   "cell_type": "markdown",
   "metadata": {},
   "source": [
    "We use JSON (Java Script object Notation) to easily handle data from API Endpoints. We use JSON to do operations on data retrieved from the API.\n",
    "And the type of data retrieved is Dict."
   ]
  },
  {
   "cell_type": "code",
   "execution_count": 8,
   "metadata": {
    "collapsed": false
   },
   "outputs": [
    {
     "name": "stdout",
     "output_type": "stream",
     "text": [
      "198\n"
     ]
    }
   ],
   "source": [
    "first_pass_duration = data['response'][0]['duration']\n",
    "print(first_pass_duration)"
   ]
  },
  {
   "cell_type": "markdown",
   "metadata": {},
   "source": [
    "The JSON data returned is a dictionary, so using the Key values we can access individual elements within the data."
   ]
  },
  {
   "cell_type": "code",
   "execution_count": 9,
   "metadata": {
    "collapsed": false
   },
   "outputs": [
    {
     "name": "stdout",
     "output_type": "stream",
     "text": [
      "{'Via': '1.1 vegur', 'Date': 'Fri, 30 Sep 2016 18:52:03 GMT', 'Server': 'gunicorn/19.6.0', 'Content-Type': 'application/json', 'Content-Length': '521', 'Connection': 'keep-alive'}\n",
      "application/json\n"
     ]
    }
   ],
   "source": [
    "print(response.headers)\n",
    "content_type = response.headers['content-type']\n",
    "print(content_type)"
   ]
  },
  {
   "cell_type": "markdown",
   "metadata": {},
   "source": [
    "The response contains the metadata i.e how the data was generated and how it is to be decoded. So, the content-type is of type .json, so we can use the JSON package to decode it."
   ]
  },
  {
   "cell_type": "code",
   "execution_count": 10,
   "metadata": {
    "collapsed": false
   },
   "outputs": [
    {
     "name": "stdout",
     "output_type": "stream",
     "text": [
      "{'people': [{'name': 'Anatoly Ivanishin', 'craft': 'ISS'}, {'name': 'Takuya Onishi', 'craft': 'ISS'}, {'name': 'Kate Rubins', 'craft': 'ISS'}], 'message': 'success', 'number': 3}\n",
      "3\n"
     ]
    }
   ],
   "source": [
    "response = requests.get('http://api.open-notify.org/astros.json')\n",
    "data = response.json()\n",
    "print(data)\n",
    "\n",
    "in_space_count = data['number']\n",
    "print(in_space_count)"
   ]
  },
  {
   "cell_type": "markdown",
   "metadata": {},
   "source": [
    "Shows the number of people currently in space and their information."
   ]
  }
 ],
 "metadata": {
  "kernelspec": {
   "display_name": "Python 3",
   "language": "python",
   "name": "python3"
  },
  "language_info": {
   "codemirror_mode": {
    "name": "ipython",
    "version": 3
   },
   "file_extension": ".py",
   "mimetype": "text/x-python",
   "name": "python",
   "nbconvert_exporter": "python",
   "pygments_lexer": "ipython3",
   "version": "3.5.2"
  }
 },
 "nbformat": 4,
 "nbformat_minor": 0
}
