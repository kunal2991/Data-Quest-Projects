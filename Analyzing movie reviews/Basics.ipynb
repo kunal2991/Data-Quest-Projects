{
 "cells": [
  {
   "cell_type": "code",
   "execution_count": 1,
   "metadata": {
    "collapsed": false
   },
   "outputs": [
    {
     "name": "stdout",
     "output_type": "stream",
     "text": [
      "                             FILM  RottenTomatoes  RottenTomatoes_User  \\\n",
      "0  Avengers: Age of Ultron (2015)              74                   86   \n",
      "1               Cinderella (2015)              85                   80   \n",
      "2                  Ant-Man (2015)              80                   90   \n",
      "3          Do You Believe? (2015)              18                   84   \n",
      "4   Hot Tub Time Machine 2 (2015)              14                   28   \n",
      "\n",
      "   Metacritic  Metacritic_User  IMDB  Fandango_Stars  Fandango_Ratingvalue  \\\n",
      "0          66              7.1   7.8             5.0                   4.5   \n",
      "1          67              7.5   7.1             5.0                   4.5   \n",
      "2          64              8.1   7.8             5.0                   4.5   \n",
      "3          22              4.7   5.4             5.0                   4.5   \n",
      "4          29              3.4   5.1             3.5                   3.0   \n",
      "\n",
      "   RT_norm  RT_user_norm         ...           IMDB_norm  RT_norm_round  \\\n",
      "0     3.70           4.3         ...                3.90            3.5   \n",
      "1     4.25           4.0         ...                3.55            4.5   \n",
      "2     4.00           4.5         ...                3.90            4.0   \n",
      "3     0.90           4.2         ...                2.70            1.0   \n",
      "4     0.70           1.4         ...                2.55            0.5   \n",
      "\n",
      "   RT_user_norm_round  Metacritic_norm_round  Metacritic_user_norm_round  \\\n",
      "0                 4.5                    3.5                         3.5   \n",
      "1                 4.0                    3.5                         4.0   \n",
      "2                 4.5                    3.0                         4.0   \n",
      "3                 4.0                    1.0                         2.5   \n",
      "4                 1.5                    1.5                         1.5   \n",
      "\n",
      "   IMDB_norm_round  Metacritic_user_vote_count  IMDB_user_vote_count  \\\n",
      "0              4.0                        1330                271107   \n",
      "1              3.5                         249                 65709   \n",
      "2              4.0                         627                103660   \n",
      "3              2.5                          31                  3136   \n",
      "4              2.5                          88                 19560   \n",
      "\n",
      "   Fandango_votes  Fandango_Difference  \n",
      "0           14846                  0.5  \n",
      "1           12640                  0.5  \n",
      "2           12055                  0.5  \n",
      "3            1793                  0.5  \n",
      "4            1021                  0.5  \n",
      "\n",
      "[5 rows x 22 columns]\n"
     ]
    }
   ],
   "source": [
    "import pandas as pd\n",
    "movies = pd.read_csv('fandango_score_comparison.csv')\n",
    "print(movies.head(5))"
   ]
  },
  {
   "cell_type": "code",
   "execution_count": 2,
   "metadata": {
    "collapsed": false
   },
   "outputs": [
    {
     "data": {
      "image/png": "[encoded data removed]",
      "text/plain": [
       "<matplotlib.figure.Figure at 0x7ff0e23ac6a0>"
      ]
     },
     "metadata": {},
     "output_type": "display_data"
    }
   ],
   "source": [
    "import matplotlib.pyplot as plt\n",
    "%matplotlib inline\n",
    "fig = plt.figure(figsize=(16,8))\n",
    "ax1 = fig.add_subplot(1,2,1)\n",
    "ax2 = fig.add_subplot(1,2,2)\n",
    "ax1.hist(movies['Metacritic_norm_round'])\n",
    "ax1.set(xlabel='Review Scores', ylabel='Frequency',title='Metacritic Review Scores')\n",
    "ax2.hist(movies['Fandango_Stars'])\n",
    "ax2.set(xlabel='Review Scores', ylabel='Frequency',title='Fandango Stars Review Scores')\n",
    "plt.show()"
   ]
  },
  {
   "cell_type": "markdown",
   "metadata": {},
   "source": [
    "From the first look itself, we can figure out that the review scores for Fandango are much more lenient as compared to those of Metacritic. \n",
    "Note: We have a clear distinction between poorly rated and highly rated movies for Metacritic, whereas since the Fandango Stars system also displays it, it is somewhat more fuzzy."
   ]
  },
  {
   "cell_type": "code",
   "execution_count": 3,
   "metadata": {
    "collapsed": false
   },
   "outputs": [
    {
     "name": "stdout",
     "output_type": "stream",
     "text": [
      "4.08904109589\n",
      "2.97260273973\n"
     ]
    }
   ],
   "source": [
    "mean_fandango = movies['Fandango_Stars'].mean()\n",
    "print(mean_fandango)\n",
    "mean_metacritic = movies['Metacritic_norm_round'].mean()\n",
    "print(mean_metacritic)"
   ]
  },
  {
   "cell_type": "markdown",
   "metadata": {},
   "source": [
    "As you can clearly see that the mean scores of Fandango Stars are almost 25% greater as compared to those of Metacritic, providing some evidence to our observation earlier that Fandango Stars rating system was more lenient. Let's discover and try to prove it using more quantified statistics."
   ]
  },
  {
   "cell_type": "code",
   "execution_count": 4,
   "metadata": {
    "collapsed": false
   },
   "outputs": [
    {
     "name": "stdout",
     "output_type": "stream",
     "text": [
      "4.0\n",
      "3.0\n"
     ]
    }
   ],
   "source": [
    "median_fandango = movies['Fandango_Stars'].median()\n",
    "print(median_fandango)\n",
    "median_metacritic = movies['Metacritic_norm_round'].median()\n",
    "print(median_metacritic)"
   ]
  },
  {
   "cell_type": "markdown",
   "metadata": {},
   "source": [
    "Looking at the median scores, it proves that there is a exact difference of 1.0 between the median scores of both the rating systems. Let's look at the Standard deviation betweem both to see which of the two has a tendency to vary more."
   ]
  },
  {
   "cell_type": "code",
   "execution_count": 5,
   "metadata": {
    "collapsed": false
   },
   "outputs": [
    {
     "name": "stdout",
     "output_type": "stream",
     "text": [
      "0.53853216127\n",
      "0.987561029704\n"
     ]
    }
   ],
   "source": [
    "import numpy as np\n",
    "std_fandango = np.std(movies['Fandango_Stars'])\n",
    "print(std_fandango)\n",
    "std_metacritic = np.std(movies['Metacritic_norm_round'])\n",
    "print(std_metacritic)"
   ]
  },
  {
   "cell_type": "markdown",
   "metadata": {},
   "source": [
    "From the values above, we can see that the review scores for Metacritic have a higher standard deviation showing that the scores are more \"Spread Out\" as compared to that of Fandango. \n",
    "This can be proved by the review methodology of both, for Fandango, its more about whether you want to see the movie or not. The values are much more skewed as compared to other rating sites and hence prove that Fandango as a movie rating system, is not so reliable."
   ]
  },
  {
   "cell_type": "code",
   "execution_count": 6,
   "metadata": {
    "collapsed": false
   },
   "outputs": [
    {
     "data": {
      "image/png": "[encoded data removed]",
      "text/plain": [
       "<matplotlib.figure.Figure at 0x7ff0e23ac208>"
      ]
     },
     "metadata": {},
     "output_type": "display_data"
    }
   ],
   "source": [
    "#Making a scatterplot between Fandango and Metacritic for comparison\n",
    "fig = plt.figure(figsize=(8,8))\n",
    "ax = fig.add_subplot(1,1,1)\n",
    "x = movies['Fandango_Stars']\n",
    "y = movies['Metacritic_norm_round']\n",
    "plt.scatter(x,y,color='b')\n",
    "ax.set(title='Scatterplot between Fandango and Metacritic')\n",
    "plt.show()"
   ]
  },
  {
   "cell_type": "code",
   "execution_count": 7,
   "metadata": {
    "collapsed": false
   },
   "outputs": [
    {
     "name": "stdout",
     "output_type": "stream",
     "text": [
      "                        FILM  fm_diff  Fandango_Stars  Metacritic_norm_round\n",
      "3     Do You Believe? (2015)        4             5.0                    1.0\n",
      "85         Little Boy (2015)        3             4.5                    1.5\n",
      "47              Annie (2014)        3             4.5                    1.5\n",
      "19             Pixels (2015)        3             4.5                    1.5\n",
      "134  The Longest Ride (2015)        3             4.5                    1.5\n"
     ]
    }
   ],
   "source": [
    "fm_diff = movies['Metacritic_norm_round'] - movies['Fandango_Stars']\n",
    "movies['fm_diff'] = fm_diff\n",
    "movies['fm_diff'] = np.absolute(movies['fm_diff'])\n",
    "movies.sort('fm_diff',ascending=False,inplace=True)\n",
    "print(movies[['FILM','fm_diff','Fandango_Stars','Metacritic_norm_round']].head(5))"
   ]
  },
  {
   "cell_type": "markdown",
   "metadata": {},
   "source": [
    "From the output above, we can see the top 5 movies with the most disparity between the two styles of ratings. The conclusion is that the movies above were rated poorly by Metacritic but were rated very highly by Fandango since the absolute difference between them is 4 for the first movie and 3 for the rest. "
   ]
  },
  {
   "cell_type": "code",
   "execution_count": 8,
   "metadata": {
    "collapsed": false
   },
   "outputs": [
    {
     "name": "stdout",
     "output_type": "stream",
     "text": [
      "0.178449190739\n"
     ]
    }
   ],
   "source": [
    "from scipy.stats.stats import pearsonr\n",
    "r, p_value = pearsonr(movies['Fandango_Stars'],movies['Metacritic_norm_round'])\n",
    "print(r)"
   ]
  },
  {
   "cell_type": "markdown",
   "metadata": {
    "collapsed": true
   },
   "source": [
    "From the above output, we can see that the correlation or the r-value is fairly close to 0 indicating that there is very little correlation between the two variables i.e the two ratings system as was hypothesized before. \n",
    "Strong non-correlation means that the two variables have no distinct pattern matching between them and are independent of each other."
   ]
  },
  {
   "cell_type": "code",
   "execution_count": 9,
   "metadata": {
    "collapsed": false
   },
   "outputs": [
    {
     "name": "stdout",
     "output_type": "stream",
     "text": [
      "4.09170715282\n"
     ]
    }
   ],
   "source": [
    "from scipy.stats import linregress\n",
    "slope, intercept, r_value, p_value, stderr_slope = linregress(movies['Metacritic_norm_round'],movies['Fandango_Stars'])\n",
    "def predict_y(x):\n",
    "     return((slope*x) + intercept)\n",
    "fand_predict = predict_y(3.0)\n",
    "print(fand_predict)"
   ]
  },
  {
   "cell_type": "markdown",
   "metadata": {},
   "source": [
    "Using Linear Regression, we create a linear relationship between Metacritic and Fandango rating systems. We observe that a rating of 3.0 on the Metacritic system would yield a corresponding rating of ~4.09 on the Fandango system."
   ]
  },
  {
   "cell_type": "code",
   "execution_count": 14,
   "metadata": {
    "collapsed": false
   },
   "outputs": [
    {
     "name": "stdout",
     "output_type": "stream",
     "text": [
      "4.1890182308\n"
     ]
    },
    {
     "data": {
      "image/png": "[encoded data removed]",
      "text/plain": [
       "<matplotlib.figure.Figure at 0x7ff0dfd8f7b8>"
      ]
     },
     "metadata": {},
     "output_type": "display_data"
    }
   ],
   "source": [
    "fand_predict_4 = predict_y(4.0)\n",
    "print(fand_predict_4)\n",
    "fig = plt.figure(figsize=(8,8))\n",
    "ax = fig.add_subplot(1,1,1)\n",
    "x = movies['Fandango_Stars']\n",
    "y = movies['Metacritic_norm_round']\n",
    "plt.scatter(x,y,color='b')\n",
    "x_values = [3.0,4.0]\n",
    "y_values = [predict_y(p) for p in x_values]\n",
    "ax.set(title='Existing values vs Linear Regression Predictions')\n",
    "ax.plot(x_values,y_values)\n",
    "plt.show()"
   ]
  },
  {
   "cell_type": "code",
   "execution_count": null,
   "metadata": {
    "collapsed": true
   },
   "outputs": [],
   "source": []
  }
 ],
 "metadata": {
  "kernelspec": {
   "display_name": "Python 3",
   "language": "python",
   "name": "python3"
  },
  "language_info": {
   "codemirror_mode": {
    "name": "ipython",
    "version": 3
   },
   "file_extension": ".py",
   "mimetype": "text/x-python",
   "name": "python",
   "nbconvert_exporter": "python",
   "pygments_lexer": "ipython3",
   "version": "3.4.3"
  }
 },
 "nbformat": 4,
 "nbformat_minor": 0
}
