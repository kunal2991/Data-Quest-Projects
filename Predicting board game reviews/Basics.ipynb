{
 "cells": [
  {
   "cell_type": "code",
   "execution_count": 38,
   "metadata": {
    "collapsed": false
   },
   "outputs": [
    {
     "name": "stdout",
     "output_type": "stream",
     "text": [
      "       id       type                                       name  \\\n",
      "0   12333  boardgame                          Twilight Struggle   \n",
      "1  120677  boardgame                              Terra Mystica   \n",
      "2  102794  boardgame                  Caverna: The Cave Farmers   \n",
      "3   25613  boardgame  Through the Ages: A Story of Civilization   \n",
      "4    3076  boardgame                                Puerto Rico   \n",
      "\n",
      "   yearpublished  minplayers  maxplayers  playingtime  minplaytime  \\\n",
      "0           2005           2           2          180          180   \n",
      "1           2012           2           5          150           60   \n",
      "2           2013           1           7          210           30   \n",
      "3           2006           2           4          240          240   \n",
      "4           2002           2           5          150           90   \n",
      "\n",
      "   maxplaytime  minage  users_rated  average_rating  bayes_average_rating  \\\n",
      "0          180      13        20113         8.33774               8.22186   \n",
      "1          150      12        14383         8.28798               8.14232   \n",
      "2          210      12         9262         8.28994               8.06886   \n",
      "3          240      12        13294         8.20407               8.05804   \n",
      "4          150      12        39883         8.14261               8.04524   \n",
      "\n",
      "   total_owners  total_traders  total_wanters  total_wishers  total_comments  \\\n",
      "0         26647            372           1219           5865            5347   \n",
      "1         16519            132           1586           6277            2526   \n",
      "2         12230             99           1476           5600            1700   \n",
      "3         14343            362           1084           5075            3378   \n",
      "4         44362            795            861           5414            9173   \n",
      "\n",
      "   total_weights  average_weight  \n",
      "0           2562          3.4785  \n",
      "1           1423          3.8939  \n",
      "2            777          3.7761  \n",
      "3           1642          4.1590  \n",
      "4           5213          3.2943  \n"
     ]
    }
   ],
   "source": [
    "import pandas as pd\n",
    "import matplotlib.pyplot as plt\n",
    "import numpy as np\n",
    "%matplotlib inline\n",
    "\n",
    "board_games = pd.read_csv('board_games.csv')\n",
    "print(board_games.head(5))"
   ]
  },
  {
   "cell_type": "code",
   "execution_count": 39,
   "metadata": {
    "collapsed": false
   },
   "outputs": [
    {
     "name": "stdout",
     "output_type": "stream",
     "text": [
      "(81312, 20)\n",
      "(81268, 20)\n"
     ]
    }
   ],
   "source": [
    "print(board_games.shape)\n",
    "board_games = board_games.dropna()\n",
    "print(board_games.shape)"
   ]
  },
  {
   "cell_type": "code",
   "execution_count": 40,
   "metadata": {
    "collapsed": false
   },
   "outputs": [
    {
     "name": "stdout",
     "output_type": "stream",
     "text": [
      "(56894, 20)\n"
     ]
    }
   ],
   "source": [
    "board_games = board_games[board_games['users_rated']!=0]\n",
    "print(board_games.shape)"
   ]
  },
  {
   "cell_type": "markdown",
   "metadata": {},
   "source": [
    "Till now, we have loaded in the data, dropped rows where the column value = NA.\n",
    "Also, we have dropped the rows where the 'users_rated' = 0 i.e those board games that do not have any reviews."
   ]
  },
  {
   "cell_type": "code",
   "execution_count": 41,
   "metadata": {
    "collapsed": false
   },
   "outputs": [
    {
     "data": {
      "image/png": "[encoded data removed]",
      "text/plain": [
       "<matplotlib.figure.Figure at 0x7ff1aadbe128>"
      ]
     },
     "metadata": {},
     "output_type": "display_data"
    }
   ],
   "source": [
    "plt.hist(board_games['average_rating'])\n",
    "plt.show()"
   ]
  },
  {
   "cell_type": "code",
   "execution_count": 42,
   "metadata": {
    "collapsed": false
   },
   "outputs": [
    {
     "name": "stdout",
     "output_type": "stream",
     "text": [
      "1.57881605958\n"
     ]
    }
   ],
   "source": [
    "standard_dev = np.std(board_games['average_rating'])\n",
    "print(standard_dev)"
   ]
  },
  {
   "cell_type": "code",
   "execution_count": 43,
   "metadata": {
    "collapsed": false
   },
   "outputs": [
    {
     "name": "stdout",
     "output_type": "stream",
     "text": [
      "6.01611284933\n"
     ]
    }
   ],
   "source": [
    "mean = np.mean(board_games['average_rating'])\n",
    "print(mean)"
   ]
  },
  {
   "cell_type": "markdown",
   "metadata": {},
   "source": [
    "According to the values above, we see that the average_rating has a mean of 6.01 as compared to a standard deviation of 1.58. \n",
    "As an error metric, we choose the mean, because according to the histogram, majority of the board games lie between 5 - 7 which includes the mean. \n",
    "Also, the standard deviation is only 1.57 which might not be get us more accurate results."
   ]
  },
  {
   "cell_type": "code",
   "execution_count": 44,
   "metadata": {
    "collapsed": false
   },
   "outputs": [
    {
     "name": "stdout",
     "output_type": "stream",
     "text": [
      "   yearpublished  minplayers  maxplayers  playingtime  minplaytime  \\\n",
      "0           2005           2           2          180          180   \n",
      "1           2012           2           5          150           60   \n",
      "\n",
      "   maxplaytime  minage  users_rated  average_rating  bayes_average_rating  \\\n",
      "0          180      13        20113         8.33774               8.22186   \n",
      "1          150      12        14383         8.28798               8.14232   \n",
      "\n",
      "   total_owners  total_traders  total_wanters  total_wishers  total_comments  \\\n",
      "0         26647            372           1219           5865            5347   \n",
      "1         16519            132           1586           6277            2526   \n",
      "\n",
      "   total_weights  average_weight  \n",
      "0           2562          3.4785  \n",
      "1           1423          3.8939  \n"
     ]
    }
   ],
   "source": [
    "numeric_columns = board_games.iloc[:,3:]\n",
    "print(numeric_columns.head(2))"
   ]
  },
  {
   "cell_type": "code",
   "execution_count": 45,
   "metadata": {
    "collapsed": false
   },
   "outputs": [
    {
     "name": "stdout",
     "output_type": "stream",
     "text": [
      "[1 1 1 ..., 0 0 0]\n"
     ]
    }
   ],
   "source": [
    "from sklearn.cluster import KMeans\n",
    "\n",
    "kmeans_model = KMeans(n_clusters = 5, random_state = 1)\n",
    "numeric_columns_distances = kmeans_model.fit_transform(numeric_columns)\n",
    "labels = kmeans_model.labels_\n",
    "print(labels)"
   ]
  },
  {
   "cell_type": "code",
   "execution_count": 46,
   "metadata": {
    "collapsed": false
   },
   "outputs": [
    {
     "data": {
      "image/png": "[encoded data removed]",
      "text/plain": [
       "<matplotlib.figure.Figure at 0x7ff1b2d30518>"
      ]
     },
     "metadata": {},
     "output_type": "display_data"
    }
   ],
   "source": [
    "game_mean = numeric_columns.apply(np.mean,axis=1)\n",
    "game_std = numeric_columns.apply(np.std,axis=1)\n",
    "plt.scatter(x=game_mean,y=game_std,c=labels)\n",
    "plt.show()"
   ]
  },
  {
   "cell_type": "markdown",
   "metadata": {},
   "source": [
    "From the above scatterplot, you can see that there are clearly 2 clusters forming and that the mean and standard deviation are linearly related to each other."
   ]
  },
  {
   "cell_type": "code",
   "execution_count": 47,
   "metadata": {
    "collapsed": false
   },
   "outputs": [
    {
     "name": "stdout",
     "output_type": "stream",
     "text": [
      "yearpublished           0.108461\n",
      "minplayers             -0.032701\n",
      "maxplayers             -0.008335\n",
      "playingtime             0.048994\n",
      "minplaytime             0.043985\n",
      "maxplaytime             0.048994\n",
      "minage                  0.210049\n",
      "users_rated             0.112564\n",
      "average_rating          1.000000\n",
      "bayes_average_rating    0.231563\n",
      "total_owners            0.137478\n",
      "total_traders           0.119452\n",
      "total_wanters           0.196566\n",
      "total_wishers           0.171375\n",
      "total_comments          0.123714\n",
      "total_weights           0.109691\n",
      "average_weight          0.351081\n",
      "Name: average_rating, dtype: float64\n"
     ]
    }
   ],
   "source": [
    "correlations = numeric_columns.corr()\n",
    "print(correlations['average_rating'])"
   ]
  },
  {
   "cell_type": "markdown",
   "metadata": {},
   "source": [
    "From the correlations above, minplayers and maxplayers columns have a negative correlation to average_rating which is surprising since min and max players should have somehow been correlated to the rating of a board game.\n",
    "Also, the most correlated column is the average_weight."
   ]
  },
  {
   "cell_type": "code",
   "execution_count": 48,
   "metadata": {
    "collapsed": false
   },
   "outputs": [],
   "source": [
    "#Dropping those columns whose correlation is below 0.1\n",
    "\n",
    "numeric_columns = numeric_columns[['yearpublished','minage','average_rating','users_rated','total_owners','total_traders','total_wanters','total_wishers','total_comments','total_weights','average_weight']]"
   ]
  },
  {
   "cell_type": "code",
   "execution_count": 49,
   "metadata": {
    "collapsed": false
   },
   "outputs": [
    {
     "name": "stdout",
     "output_type": "stream",
     "text": [
      "[ 7.15311346  7.28359492  7.23487475 ...,  6.16936732  5.50785613\n",
      "  6.12823178]\n"
     ]
    }
   ],
   "source": [
    "from sklearn.linear_model import LinearRegression\n",
    "reg = LinearRegression()\n",
    "predictors = numeric_columns[['minage','average_weight']]\n",
    "to_predict = numeric_columns['average_rating']\n",
    "reg.fit(predictors,to_predict)\n",
    "predictions = reg.predict(predictors)\n",
    "print(predictions)"
   ]
  },
  {
   "cell_type": "code",
   "execution_count": 50,
   "metadata": {
    "collapsed": false
   },
   "outputs": [
    {
     "name": "stdout",
     "output_type": "stream",
     "text": [
      "2.14766593643\n"
     ]
    }
   ],
   "source": [
    "difference = to_predict - predictions\n",
    "difference = difference ** 2\n",
    "total = sum(difference)\n",
    "mse = total / len(to_predict)\n",
    "print(mse)"
   ]
  },
  {
   "cell_type": "markdown",
   "metadata": {},
   "source": [
    "From the mse value of 2.15, we can conclude that the predictors we chose to predict the average_rating column, are quite good and provide a strong correlation."
   ]
  }
 ],
 "metadata": {
  "kernelspec": {
   "display_name": "Python 3",
   "language": "python",
   "name": "python3"
  },
  "language_info": {
   "codemirror_mode": {
    "name": "ipython",
    "version": 3
   },
   "file_extension": ".py",
   "mimetype": "text/x-python",
   "name": "python",
   "nbconvert_exporter": "python",
   "pygments_lexer": "ipython3",
   "version": "3.4.3"
  }
 },
 "nbformat": 4,
 "nbformat_minor": 0
}
