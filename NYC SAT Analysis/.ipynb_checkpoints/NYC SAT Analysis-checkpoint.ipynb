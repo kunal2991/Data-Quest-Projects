{
 "cells": [
  {
   "cell_type": "code",
   "execution_count": 1,
   "metadata": {
    "collapsed": false
   },
   "outputs": [],
   "source": [
    "import pandas as pd\n",
    "import seaborn as sns\n",
    "import matplotlib.pyplot as plt\n",
    "%matplotlib inline\n",
    "\n",
    "data_files = [\n",
    "    \"ap_2010.csv\",\n",
    "    \"class_size.csv\",\n",
    "    \"demographics.csv\",\n",
    "    \"graduation.csv\",\n",
    "    \"hs_directory.csv\",\n",
    "    \"sat_results.csv\"\n",
    "]\n",
    "\n",
    "data = {}\n",
    "for item in data_files:\n",
    "    d = pd.read_csv(item)\n",
    "    key_name = item.replace('.csv','')  #Replacing .csv with '' to save it as key name\n",
    "    data[key_name] = d"
   ]
  },
  {
   "cell_type": "markdown",
   "metadata": {
    "collapsed": true
   },
   "source": [
    "Reading all the data files required and storing them in a Dictionary with the File Names as the key and the data frames as the data."
   ]
  },
  {
   "cell_type": "code",
   "execution_count": 2,
   "metadata": {
    "collapsed": false
   },
   "outputs": [
    {
     "name": "stdout",
     "output_type": "stream",
     "text": [
      "      DBN                                    SCHOOL NAME  \\\n",
      "0  01M292  HENRY STREET SCHOOL FOR INTERNATIONAL STUDIES   \n",
      "1  01M448            UNIVERSITY NEIGHBORHOOD HIGH SCHOOL   \n",
      "2  01M450                     EAST SIDE COMMUNITY SCHOOL   \n",
      "3  01M458                      FORSYTH SATELLITE ACADEMY   \n",
      "4  01M509                        MARTA VALLE HIGH SCHOOL   \n",
      "\n",
      "  Num of SAT Test Takers SAT Critical Reading Avg. Score SAT Math Avg. Score  \\\n",
      "0                     29                             355                 404   \n",
      "1                     91                             383                 423   \n",
      "2                     70                             377                 402   \n",
      "3                      7                             414                 401   \n",
      "4                     44                             390                 433   \n",
      "\n",
      "  SAT Writing Avg. Score  \n",
      "0                    363  \n",
      "1                    366  \n",
      "2                    370  \n",
      "3                    359  \n",
      "4                    384  \n"
     ]
    }
   ],
   "source": [
    "print(data['sat_results'].head(5))"
   ]
  },
  {
   "cell_type": "markdown",
   "metadata": {},
   "source": [
    "Accessing SAT Results data using the dictionary. Understanding how the data looks.\n",
    "From the data above we can conclude that:\n",
    "\n",
    "1. The column 'DBN' seems to be unique for every school.\n",
    "2. There is only a single row for each school, hence there is only one DBN per school.\n",
    "3. The SAT Scores have been divided as per the individual sections, which we may need to combine at some later point for a complete analysis."
   ]
  },
  {
   "cell_type": "code",
   "execution_count": 3,
   "metadata": {
    "collapsed": false
   },
   "outputs": [
    {
     "name": "stdout",
     "output_type": "stream",
     "text": [
      "      DBN                    SchoolName AP Test Takers  Total Exams Taken  \\\n",
      "0  01M448  UNIVERSITY NEIGHBORHOOD H.S.              39                49   \n",
      "1  01M450        EAST SIDE COMMUNITY HS              19                21   \n",
      "\n",
      "  Number of Exams with scores 3 4 or 5  \n",
      "0                                   10  \n",
      "1                                    s  \n",
      "      DBN                       Name  schoolyear fl_percent  frl_percent  \\\n",
      "0  01M015  P.S. 015 ROBERTO CLEMENTE    20052006       89.4          NaN   \n",
      "1  01M015  P.S. 015 ROBERTO CLEMENTE    20062007       89.4          NaN   \n",
      "\n",
      "   total_enrollment prek   k grade1 grade2    ...     black_num black_per  \\\n",
      "0               281   15  36     40     33    ...            74      26.3   \n",
      "1               243   15  29     39     38    ...            68      28.0   \n",
      "\n",
      "  hispanic_num hispanic_per white_num white_per male_num male_per female_num  \\\n",
      "0          189         67.3         5       1.8    158.0     56.2      123.0   \n",
      "1          153         63.0         4       1.6    140.0     57.6      103.0   \n",
      "\n",
      "  female_per  \n",
      "0       43.8  \n",
      "1       42.4  \n",
      "\n",
      "[2 rows x 38 columns]\n",
      "      DBN                                    SCHOOL NAME  \\\n",
      "0  01M292  HENRY STREET SCHOOL FOR INTERNATIONAL STUDIES   \n",
      "1  01M448            UNIVERSITY NEIGHBORHOOD HIGH SCHOOL   \n",
      "\n",
      "  Num of SAT Test Takers SAT Critical Reading Avg. Score SAT Math Avg. Score  \\\n",
      "0                     29                             355                 404   \n",
      "1                     91                             383                 423   \n",
      "\n",
      "  SAT Writing Avg. Score  \n",
      "0                    363  \n",
      "1                    366  \n",
      "    Demographic     DBN                            School Name Cohort  \\\n",
      "0  Total Cohort  01M292  HENRY STREET SCHOOL FOR INTERNATIONAL   2003   \n",
      "1  Total Cohort  01M292  HENRY STREET SCHOOL FOR INTERNATIONAL   2004   \n",
      "\n",
      "   Total Cohort Total Grads - n Total Grads - % of cohort Total Regents - n  \\\n",
      "0             5               s                         s                 s   \n",
      "1            55              37                     67.3%                17   \n",
      "\n",
      "  Total Regents - % of cohort Total Regents - % of grads  \\\n",
      "0                           s                          s   \n",
      "1                       30.9%                      45.9%   \n",
      "\n",
      "             ...            Regents w/o Advanced - n  \\\n",
      "0            ...                                   s   \n",
      "1            ...                                  17   \n",
      "\n",
      "  Regents w/o Advanced - % of cohort Regents w/o Advanced - % of grads  \\\n",
      "0                                  s                                 s   \n",
      "1                              30.9%                             45.9%   \n",
      "\n",
      "  Local - n Local - % of cohort Local - % of grads Still Enrolled - n  \\\n",
      "0         s                   s                  s                  s   \n",
      "1        20               36.4%              54.1%                 15   \n",
      "\n",
      "  Still Enrolled - % of cohort Dropped Out - n Dropped Out - % of cohort  \n",
      "0                            s               s                         s  \n",
      "1                        27.3%               3                      5.5%  \n",
      "\n",
      "[2 rows x 23 columns]\n",
      "      dbn                          school_name      boro building_code  \\\n",
      "0  17K548  Brooklyn School for Music & Theatre  Brooklyn          K440   \n",
      "1  09X543     High School for Violin and Dance     Bronx          X400   \n",
      "\n",
      "   phone_number    fax_number grade_span_min  grade_span_max  \\\n",
      "0  718-230-6250  718-230-6262              9              12   \n",
      "1  718-842-0687  718-589-9849              9              12   \n",
      "\n",
      "  expgrade_span_min  expgrade_span_max  \\\n",
      "0               NaN                NaN   \n",
      "1               NaN                NaN   \n",
      "\n",
      "                         ...                          \\\n",
      "0                        ...                           \n",
      "1                        ...                           \n",
      "\n",
      "                                          priority02  \\\n",
      "0                    Then to New York City residents   \n",
      "1  Then to New York City residents who attend an ...   \n",
      "\n",
      "                            priority03                       priority04  \\\n",
      "0                                  NaN                              NaN   \n",
      "1  Then to Bronx students or residents  Then to New York City residents   \n",
      "\n",
      "  priority05 priority06  priority07 priority08  priority09 priority10  \\\n",
      "0        NaN        NaN         NaN        NaN         NaN        NaN   \n",
      "1        NaN        NaN         NaN        NaN         NaN        NaN   \n",
      "\n",
      "                                          Location 1  \n",
      "0  883 Classon Avenue\\nBrooklyn, NY 11225\\n(40.67...  \n",
      "1  1110 Boston Road\\nBronx, NY 10456\\n(40.8276026...  \n",
      "\n",
      "[2 rows x 58 columns]\n",
      "   CSD BOROUGH SCHOOL CODE                SCHOOL NAME GRADE  PROGRAM TYPE  \\\n",
      "0    1       M        M015  P.S. 015 Roberto Clemente     0K       GEN ED   \n",
      "1    1       M        M015  P.S. 015 Roberto Clemente     0K          CTT   \n",
      "\n",
      "  CORE SUBJECT (MS CORE and 9-12 ONLY) CORE COURSE (MS CORE and 9-12 ONLY)  \\\n",
      "0                                    -                                   -   \n",
      "1                                    -                                   -   \n",
      "\n",
      "  SERVICE CATEGORY(K-9* ONLY)  NUMBER OF STUDENTS / SEATS FILLED  \\\n",
      "0                           -                               19.0   \n",
      "1                           -                               21.0   \n",
      "\n",
      "   NUMBER OF SECTIONS  AVERAGE CLASS SIZE  SIZE OF SMALLEST CLASS  \\\n",
      "0                 1.0                19.0                    19.0   \n",
      "1                 1.0                21.0                    21.0   \n",
      "\n",
      "   SIZE OF LARGEST CLASS DATA SOURCE  SCHOOLWIDE PUPIL-TEACHER RATIO  \n",
      "0                   19.0         ATS                             NaN  \n",
      "1                   21.0         ATS                             NaN  \n"
     ]
    }
   ],
   "source": [
    "for item in data:\n",
    "    print(data[item].head(2))"
   ]
  },
  {
   "cell_type": "markdown",
   "metadata": {},
   "source": [
    "In order to combine all the data sets, we can use the 'DBN' column. Some of the datasets dont have the DBN column, so we can use the information to create a DBN column for those that don't.\n",
    "\n",
    "For those who have a DBN column, we can join them on row basis, by adding columns. \n",
    "Also, some datasets have multiple entries with same 'DBN' values, so we will need to do some cleaning there to make sure there are only unique values."
   ]
  },
  {
   "cell_type": "code",
   "execution_count": 4,
   "metadata": {
    "collapsed": false
   },
   "outputs": [
    {
     "name": "stdout",
     "output_type": "stream",
     "text": [
      "     N_p  N_s   N_t  aca_p_11  aca_s_11  aca_t_11  aca_tot_11    bn  com_p_11  \\\n",
      "0   90.0  NaN  22.0       7.8       NaN       7.9         7.9  M015       7.6   \n",
      "1  161.0  NaN  34.0       7.8       NaN       9.1         8.4  M019       7.6   \n",
      "\n",
      "   com_s_11   ...    t_q8c_1  t_q8c_2  t_q8c_3 t_q8c_4  t_q9  t_q9_1  t_q9_2  \\\n",
      "0       NaN   ...       29.0     67.0      5.0     0.0   NaN     5.0    14.0   \n",
      "1       NaN   ...       74.0     21.0      6.0     0.0   NaN     3.0     6.0   \n",
      "\n",
      "   t_q9_3  t_q9_4  t_q9_5  \n",
      "0    52.0    24.0     5.0  \n",
      "1     3.0    78.0     9.0  \n",
      "\n",
      "[2 rows x 2773 columns]\n"
     ]
    }
   ],
   "source": [
    "all_survey = pd.read_csv('survey_all.txt', delimiter='\\t', encoding='windows-1252') #Reading in the survey_all.txt data\n",
    "\n",
    "d75_survey = pd.read_csv('survey_d75.txt', delimiter='\\t', encoding='windows-1252') #Reading in the survey_d75.txt data\n",
    "\n",
    "survey = pd.concat([all_survey,d75_survey], axis=0)\n",
    "print(survey.head(2))"
   ]
  },
  {
   "cell_type": "markdown",
   "metadata": {},
   "source": [
    "Combining the 2 survey text files into a single pandas dataframe using 'concat' method. As you can see, it requires a lot of cleaning before we can proceed."
   ]
  },
  {
   "cell_type": "code",
   "execution_count": 5,
   "metadata": {
    "collapsed": false
   },
   "outputs": [
    {
     "name": "stdout",
     "output_type": "stream",
     "text": [
      "    DBN  rr_s  rr_t  rr_p    N_s   N_t    N_p  saf_p_11  com_p_11  eng_p_11  \\\n",
      "0  M015   NaN    88    60    NaN  22.0   90.0       8.5       7.6       7.5   \n",
      "1  M019   NaN   100    60    NaN  34.0  161.0       8.4       7.6       7.6   \n",
      "2  M020   NaN    88    73    NaN  42.0  367.0       8.9       8.3       8.3   \n",
      "3  M034  89.0    73    50  145.0  29.0  151.0       8.8       8.2       8.0   \n",
      "4  M063   NaN   100    60    NaN  23.0   90.0       8.7       7.9       8.1   \n",
      "\n",
      "      ...      eng_t_11  aca_t_11  saf_s_11  com_s_11  eng_s_11  aca_s_11  \\\n",
      "0     ...           7.6       7.9       NaN       NaN       NaN       NaN   \n",
      "1     ...           8.9       9.1       NaN       NaN       NaN       NaN   \n",
      "2     ...           6.8       7.5       NaN       NaN       NaN       NaN   \n",
      "3     ...           6.8       7.8       6.2       5.9       6.5       7.4   \n",
      "4     ...           7.8       8.1       NaN       NaN       NaN       NaN   \n",
      "\n",
      "   saf_tot_11  com_tot_11  eng_tot_11  aca_tot_11  \n",
      "0         8.0         7.7         7.5         7.9  \n",
      "1         8.5         8.1         8.2         8.4  \n",
      "2         8.2         7.3         7.5         8.0  \n",
      "3         7.3         6.7         7.1         7.9  \n",
      "4         8.5         7.6         7.9         8.0  \n",
      "\n",
      "[5 rows x 23 columns]\n"
     ]
    }
   ],
   "source": [
    "survey[\"DBN\"] = survey[\"bn\"]\n",
    "\n",
    "survey_fields = [\n",
    "    \"DBN\", \n",
    "    \"rr_s\", \n",
    "    \"rr_t\", \n",
    "    \"rr_p\", \n",
    "    \"N_s\", \n",
    "    \"N_t\", \n",
    "    \"N_p\", \n",
    "    \"saf_p_11\", \n",
    "    \"com_p_11\", \n",
    "    \"eng_p_11\", \n",
    "    \"aca_p_11\", \n",
    "    \"saf_t_11\", \n",
    "    \"com_t_11\", \n",
    "    \"eng_t_11\", \n",
    "    \"aca_t_11\", \n",
    "    \"saf_s_11\", \n",
    "    \"com_s_11\", \n",
    "    \"eng_s_11\", \n",
    "    \"aca_s_11\", \n",
    "    \"saf_tot_11\", \n",
    "    \"com_tot_11\", \n",
    "    \"eng_tot_11\", \n",
    "    \"aca_tot_11\",\n",
    "]\n",
    "survey = survey.loc[:,survey_fields]\n",
    "data[\"survey\"] = survey\n",
    "\n",
    "print(survey.head())"
   ]
  },
  {
   "cell_type": "code",
   "execution_count": 6,
   "metadata": {
    "collapsed": true
   },
   "outputs": [],
   "source": [
    "data['hs_directory']['DBN'] = data['hs_directory']['dbn']"
   ]
  },
  {
   "cell_type": "markdown",
   "metadata": {},
   "source": [
    "Now that we need to combine all tthe datasets using the 'DBN' column, the 'hs_directory' dataset has a 'dbn' column, which we have now created a 'DBN' column using the 'dbn' column."
   ]
  },
  {
   "cell_type": "code",
   "execution_count": 7,
   "metadata": {
    "collapsed": true
   },
   "outputs": [],
   "source": [
    "def padding(num):\n",
    "    num_str = str(num)\n",
    "    if len(num_str) == 1:\n",
    "        return '0'+num_str\n",
    "    else:\n",
    "        return num_str\n",
    "\n",
    "data['class_size']['padded_csd'] = data['class_size']['CSD'].apply(padding)\n",
    "\n",
    "data['class_size']['DBN'] = data['class_size']['padded_csd'] + data['class_size']['SCHOOL CODE']"
   ]
  },
  {
   "cell_type": "markdown",
   "metadata": {},
   "source": [
    "In the 'class_size' dataset, we have 2 columns from which we can generate the 'DBN' column, which are:\n",
    "    1. 'CSD'\n",
    "    2. 'SCHOOL CODE'\n",
    "The problem with using 'CSD' is that some of the entries are single digit, so we need to pad them with 0 for entries which have len = 1.\n",
    "And then just combine the two columns to generate a new column called 'DBN'."
   ]
  },
  {
   "cell_type": "code",
   "execution_count": 8,
   "metadata": {
    "collapsed": false
   },
   "outputs": [
    {
     "name": "stdout",
     "output_type": "stream",
     "text": [
      "0    1122.0\n",
      "1    1172.0\n",
      "2    1149.0\n",
      "3    1174.0\n",
      "4    1207.0\n",
      "Name: sat_score, dtype: float64\n"
     ]
    }
   ],
   "source": [
    "data['sat_results']['SAT Math Avg. Score'] = pd.to_numeric(data['sat_results']['SAT Math Avg. Score'],errors='coerce')\n",
    "data['sat_results']['SAT Critical Reading Avg. Score'] = pd.to_numeric(data['sat_results']['SAT Critical Reading Avg. Score'],errors='coerce')\n",
    "data['sat_results']['SAT Writing Avg. Score'] = pd.to_numeric(data['sat_results']['SAT Writing Avg. Score'],errors='coerce')\n",
    "\n",
    "data['sat_results']['sat_score'] = data['sat_results']['SAT Math Avg. Score'] + data['sat_results']['SAT Critical Reading Avg. Score'] + data['sat_results']['SAT Writing Avg. Score']\n",
    "\n",
    "print(data['sat_results']['sat_score'].head(5))"
   ]
  },
  {
   "cell_type": "markdown",
   "metadata": {},
   "source": [
    "Converting the individual section SAT scores to numeric and adding them to create a consolidated SAT Score."
   ]
  },
  {
   "cell_type": "code",
   "execution_count": 9,
   "metadata": {
    "collapsed": false
   },
   "outputs": [
    {
     "name": "stdout",
     "output_type": "stream",
     "text": [
      "      dbn                          school_name      boro building_code  \\\n",
      "0  17K548  Brooklyn School for Music & Theatre  Brooklyn          K440   \n",
      "1  09X543     High School for Violin and Dance     Bronx          X400   \n",
      "\n",
      "   phone_number    fax_number grade_span_min  grade_span_max  \\\n",
      "0  718-230-6250  718-230-6262              9              12   \n",
      "1  718-842-0687  718-589-9849              9              12   \n",
      "\n",
      "  expgrade_span_min  expgrade_span_max        ...         \\\n",
      "0               NaN                NaN        ...          \n",
      "1               NaN                NaN        ...          \n",
      "\n",
      "                        priority04 priority05 priority06 priority07  \\\n",
      "0                              NaN        NaN        NaN        NaN   \n",
      "1  Then to New York City residents        NaN        NaN        NaN   \n",
      "\n",
      "  priority08  priority09 priority10  \\\n",
      "0        NaN         NaN        NaN   \n",
      "1        NaN         NaN        NaN   \n",
      "\n",
      "                                          Location 1     DBN               lat  \n",
      "0  883 Classon Avenue\\nBrooklyn, NY 11225\\n(40.67...  17K548  40.8276026690005  \n",
      "1  1110 Boston Road\\nBronx, NY 10456\\n(40.8276026...  09X543  40.8276026690005  \n",
      "\n",
      "[2 rows x 60 columns]\n"
     ]
    }
   ],
   "source": [
    "import re\n",
    "\n",
    "def find_lat(loc):\n",
    "    coords = re.findall(\"\\(.+, .+\\)\", \"1110 Boston Road\\nBronx, NY 10456\\n(40.8276026690005, -73.90447525699966)\")\n",
    "    lat = coords[0].split(\",\")[0].replace(\"(\", \"\")\n",
    "    return lat\n",
    "\n",
    "data['hs_directory']['lat'] = data['hs_directory']['Location 1'].apply(find_lat)\n",
    "print(data['hs_directory'].head(2))"
   ]
  },
  {
   "cell_type": "markdown",
   "metadata": {},
   "source": [
    "Extracting Latitude values from the 'Location 1' column."
   ]
  },
  {
   "cell_type": "code",
   "execution_count": 10,
   "metadata": {
    "collapsed": false
   },
   "outputs": [
    {
     "name": "stdout",
     "output_type": "stream",
     "text": [
      "      dbn                          school_name      boro building_code  \\\n",
      "0  17K548  Brooklyn School for Music & Theatre  Brooklyn          K440   \n",
      "1  09X543     High School for Violin and Dance     Bronx          X400   \n",
      "\n",
      "   phone_number    fax_number grade_span_min  grade_span_max  \\\n",
      "0  718-230-6250  718-230-6262              9              12   \n",
      "1  718-842-0687  718-589-9849              9              12   \n",
      "\n",
      "  expgrade_span_min  expgrade_span_max    ...     priority05 priority06  \\\n",
      "0               NaN                NaN    ...            NaN        NaN   \n",
      "1               NaN                NaN    ...            NaN        NaN   \n",
      "\n",
      "  priority07 priority08 priority09  priority10  \\\n",
      "0        NaN        NaN        NaN         NaN   \n",
      "1        NaN        NaN        NaN         NaN   \n",
      "\n",
      "                                          Location 1     DBN        lat  \\\n",
      "0  883 Classon Avenue\\nBrooklyn, NY 11225\\n(40.67...  17K548  40.827603   \n",
      "1  1110 Boston Road\\nBronx, NY 10456\\n(40.8276026...  09X543  40.827603   \n",
      "\n",
      "         lon  \n",
      "0 -73.961648  \n",
      "1 -73.904475  \n",
      "\n",
      "[2 rows x 61 columns]\n"
     ]
    }
   ],
   "source": [
    "import re\n",
    "\n",
    "def find_lon(loc):\n",
    "    coords = re.findall(\"\\(.+, .+\\)\", loc)\n",
    "    lon = coords[0].split(\",\")[1].replace(\")\", \"\").strip()\n",
    "    return lon\n",
    "\n",
    "data['hs_directory']['lon'] = data['hs_directory']['Location 1'].apply(find_lon)\n",
    "\n",
    "data['hs_directory']['lat'] = pd.to_numeric(data['hs_directory']['lat'],errors='coerce')\n",
    "data['hs_directory']['lon'] = pd.to_numeric(data['hs_directory']['lon'],errors='coerce')\n",
    "print(data['hs_directory'].head(2))"
   ]
  },
  {
   "cell_type": "markdown",
   "metadata": {},
   "source": [
    "Doing the same thing for Longitutde."
   ]
  },
  {
   "cell_type": "code",
   "execution_count": 11,
   "metadata": {
    "collapsed": false
   },
   "outputs": [
    {
     "name": "stdout",
     "output_type": "stream",
     "text": [
      "     CSD BOROUGH SCHOOL CODE                                    SCHOOL NAME  \\\n",
      "225    1       M        M292  Henry Street School for International Studies   \n",
      "226    1       M        M292  Henry Street School for International Studies   \n",
      "227    1       M        M292  Henry Street School for International Studies   \n",
      "228    1       M        M292  Henry Street School for International Studies   \n",
      "229    1       M        M292  Henry Street School for International Studies   \n",
      "\n",
      "    GRADE  PROGRAM TYPE CORE SUBJECT (MS CORE and 9-12 ONLY)  \\\n",
      "225  09-12       GEN ED                              ENGLISH   \n",
      "226  09-12       GEN ED                              ENGLISH   \n",
      "227  09-12       GEN ED                              ENGLISH   \n",
      "228  09-12       GEN ED                              ENGLISH   \n",
      "229  09-12       GEN ED                                 MATH   \n",
      "\n",
      "    CORE COURSE (MS CORE and 9-12 ONLY) SERVICE CATEGORY(K-9* ONLY)  \\\n",
      "225                           English 9                           -   \n",
      "226                          English 10                           -   \n",
      "227                          English 11                           -   \n",
      "228                          English 12                           -   \n",
      "229                  Integrated Algebra                           -   \n",
      "\n",
      "     NUMBER OF STUDENTS / SEATS FILLED  NUMBER OF SECTIONS  \\\n",
      "225                               63.0                 3.0   \n",
      "226                               79.0                 3.0   \n",
      "227                               38.0                 2.0   \n",
      "228                               69.0                 3.0   \n",
      "229                               53.0                 3.0   \n",
      "\n",
      "     AVERAGE CLASS SIZE  SIZE OF SMALLEST CLASS  SIZE OF LARGEST CLASS  \\\n",
      "225                21.0                    19.0                   25.0   \n",
      "226                26.3                    24.0                   31.0   \n",
      "227                19.0                    16.0                   22.0   \n",
      "228                23.0                    13.0                   30.0   \n",
      "229                17.7                    16.0                   21.0   \n",
      "\n",
      "    DATA SOURCE  SCHOOLWIDE PUPIL-TEACHER RATIO padded_csd     DBN  \n",
      "225       STARS                             NaN         01  01M292  \n",
      "226       STARS                             NaN         01  01M292  \n",
      "227       STARS                             NaN         01  01M292  \n",
      "228       STARS                             NaN         01  01M292  \n",
      "229       STARS                             NaN         01  01M292  \n"
     ]
    }
   ],
   "source": [
    "class_size = data['class_size']\n",
    "\n",
    "class_size = class_size[class_size['GRADE '] == '09-12']\n",
    "\n",
    "class_size = class_size[class_size['PROGRAM TYPE'] == 'GEN ED']\n",
    "print(class_size.head())"
   ]
  },
  {
   "cell_type": "markdown",
   "metadata": {},
   "source": [
    "We need to do some more cleaning now, particulary we are now filtering data only for columns 'GRADE ' and 'PROGRAM TYPE' since we need only grades 9-12 and program type 'GEN ED' for our analysis here."
   ]
  },
  {
   "cell_type": "code",
   "execution_count": 12,
   "metadata": {
    "collapsed": false
   },
   "outputs": [
    {
     "name": "stdout",
     "output_type": "stream",
     "text": [
      "      DBN  CSD  NUMBER OF STUDENTS / SEATS FILLED  NUMBER OF SECTIONS  \\\n",
      "0  01M292    1                               88.0                 4.0   \n",
      "1  01M332    1                               46.0                 2.0   \n",
      "\n",
      "   AVERAGE CLASS SIZE  SIZE OF SMALLEST CLASS  SIZE OF LARGEST CLASS  \\\n",
      "0           22.564286                    18.5              26.571429   \n",
      "1           22.000000                    21.0              23.500000   \n",
      "\n",
      "   SCHOOLWIDE PUPIL-TEACHER RATIO  \n",
      "0                             NaN  \n",
      "1                             NaN  \n"
     ]
    }
   ],
   "source": [
    "import numpy\n",
    "\n",
    "class_size = class_size.groupby('DBN').agg(numpy.mean)\n",
    "class_size.reset_index('DBN', inplace=True)\n",
    "data['class_size'] = class_size\n",
    "print(data['class_size'].head(2))"
   ]
  },
  {
   "cell_type": "markdown",
   "metadata": {},
   "source": [
    "Even after cleaning the data on those columns above, we still need to clean the data based on the CORE COURSE (MS CORE and 9-12 ONLY) and CORE SUBJECT (MS CORE and 9-12 ONLY) columns.\n",
    "In order to do this, we group the columns by 'DBN' and then take the aggregate of those groups therebe ensuring that there is only 1 DBN entry per row."
   ]
  },
  {
   "cell_type": "code",
   "execution_count": 13,
   "metadata": {
    "collapsed": false
   },
   "outputs": [
    {
     "name": "stdout",
     "output_type": "stream",
     "text": [
      "       DBN                                              Name  schoolyear  \\\n",
      "6   01M015  P.S. 015 ROBERTO CLEMENTE                           20112012   \n",
      "13  01M019  P.S. 019 ASHER LEVY                                 20112012   \n",
      "20  01M020  PS 020 ANNA SILVER                                  20112012   \n",
      "27  01M034  PS 034 FRANKLIN D ROOSEVELT                         20112012   \n",
      "35  01M063  PS 063 WILLIAM MCKINLEY                             20112012   \n",
      "\n",
      "   fl_percent  frl_percent  total_enrollment prek    k grade1 grade2  \\\n",
      "6         NaN         89.4               189   13   31     35     28   \n",
      "13        NaN         61.5               328   32   46     52     54   \n",
      "20        NaN         92.5               626   52  102    121     87   \n",
      "27        NaN         99.7               401   14   34     38     36   \n",
      "35        NaN         78.9               176   18   20     30     21   \n",
      "\n",
      "      ...     black_num black_per hispanic_num hispanic_per white_num  \\\n",
      "6     ...            63      33.3          109         57.7         4   \n",
      "13    ...            81      24.7          158         48.2        28   \n",
      "20    ...            55       8.8          357         57.0        16   \n",
      "27    ...            90      22.4          275         68.6         8   \n",
      "35    ...            41      23.3          110         62.5        15   \n",
      "\n",
      "   white_per male_num male_per female_num female_per  \n",
      "6        2.1     97.0     51.3       92.0       48.7  \n",
      "13       8.5    147.0     44.8      181.0       55.2  \n",
      "20       2.6    330.0     52.7      296.0       47.3  \n",
      "27       2.0    204.0     50.9      197.0       49.1  \n",
      "35       8.5     97.0     55.1       79.0       44.9  \n",
      "\n",
      "[5 rows x 38 columns]\n"
     ]
    }
   ],
   "source": [
    "demographics = data['demographics']\n",
    "\n",
    "demographics = demographics[demographics['schoolyear'] == 20112012]\n",
    "data['demographics'] = demographics\n",
    "print(data['demographics'].head(5))"
   ]
  },
  {
   "cell_type": "markdown",
   "metadata": {},
   "source": [
    "Condensing 'demograhics.csv' to ensure to use only the recent schoolyear."
   ]
  },
  {
   "cell_type": "code",
   "execution_count": 14,
   "metadata": {
    "collapsed": false
   },
   "outputs": [
    {
     "name": "stdout",
     "output_type": "stream",
     "text": [
      "     Demographic     DBN                            School Name Cohort  \\\n",
      "3   Total Cohort  01M292  HENRY STREET SCHOOL FOR INTERNATIONAL   2006   \n",
      "10  Total Cohort  01M448    UNIVERSITY NEIGHBORHOOD HIGH SCHOOL   2006   \n",
      "17  Total Cohort  01M450             EAST SIDE COMMUNITY SCHOOL   2006   \n",
      "24  Total Cohort  01M509                MARTA VALLE HIGH SCHOOL   2006   \n",
      "31  Total Cohort  01M515  LOWER EAST SIDE PREPARATORY HIGH SCHO   2006   \n",
      "\n",
      "    Total Cohort Total Grads - n Total Grads - % of cohort Total Regents - n  \\\n",
      "3             78              43                     55.1%                36   \n",
      "10           124              53                     42.7%                42   \n",
      "17            90              70                     77.8%                67   \n",
      "24            84              47                       56%                40   \n",
      "31           193             105                     54.4%                91   \n",
      "\n",
      "   Total Regents - % of cohort Total Regents - % of grads  \\\n",
      "3                        46.2%                      83.7%   \n",
      "10                       33.9%                      79.2%   \n",
      "17         74.400000000000006%                      95.7%   \n",
      "24                       47.6%                      85.1%   \n",
      "31                       47.2%                      86.7%   \n",
      "\n",
      "              ...            Regents w/o Advanced - n  \\\n",
      "3             ...                                  36   \n",
      "10            ...                                  34   \n",
      "17            ...                                  67   \n",
      "24            ...                                  23   \n",
      "31            ...                                  22   \n",
      "\n",
      "   Regents w/o Advanced - % of cohort Regents w/o Advanced - % of grads  \\\n",
      "3                               46.2%                             83.7%   \n",
      "10                              27.4%                             64.2%   \n",
      "17                74.400000000000006%                             95.7%   \n",
      "24                              27.4%                             48.9%   \n",
      "31                              11.4%                               21%   \n",
      "\n",
      "   Local - n Local - % of cohort Local - % of grads Still Enrolled - n  \\\n",
      "3          7                  9%              16.3%                 16   \n",
      "10        11                8.9%              20.8%                 46   \n",
      "17         3                3.3%               4.3%                 15   \n",
      "24         7  8.300000000000001%              14.9%                 25   \n",
      "31        14                7.3%              13.3%                 53   \n",
      "\n",
      "   Still Enrolled - % of cohort Dropped Out - n Dropped Out - % of cohort  \n",
      "3                         20.5%              11                     14.1%  \n",
      "10                        37.1%              20       16.100000000000001%  \n",
      "17                        16.7%               5                      5.6%  \n",
      "24                        29.8%               5                        6%  \n",
      "31                        27.5%              35       18.100000000000001%  \n",
      "\n",
      "[5 rows x 23 columns]\n"
     ]
    }
   ],
   "source": [
    "graduation = data['graduation']\n",
    "\n",
    "graduation = graduation[graduation['Cohort'] == '2006']\n",
    "graduation = graduation[graduation['Demographic'] == 'Total Cohort']\n",
    "data['graduation'] = graduation\n",
    "print(data['graduation'].head(5))"
   ]
  },
  {
   "cell_type": "markdown",
   "metadata": {},
   "source": [
    "Condensing 'demographics.csv' by selection columns specifically for Cohort = 2006 and Demographic = Total Cohort."
   ]
  },
  {
   "cell_type": "code",
   "execution_count": 15,
   "metadata": {
    "collapsed": false
   },
   "outputs": [
    {
     "name": "stdout",
     "output_type": "stream",
     "text": [
      "      DBN                             SchoolName  AP Test Takers   \\\n",
      "0  01M448           UNIVERSITY NEIGHBORHOOD H.S.             39.0   \n",
      "1  01M450                 EAST SIDE COMMUNITY HS             19.0   \n",
      "2  01M515                    LOWER EASTSIDE PREP             24.0   \n",
      "3  01M539         NEW EXPLORATIONS SCI,TECH,MATH            255.0   \n",
      "4  02M296  High School of Hospitality Management              NaN   \n",
      "\n",
      "   Total Exams Taken  Number of Exams with scores 3 4 or 5  \n",
      "0               49.0                                  10.0  \n",
      "1               21.0                                   NaN  \n",
      "2               26.0                                  24.0  \n",
      "3              377.0                                 191.0  \n",
      "4                NaN                                   NaN  \n"
     ]
    }
   ],
   "source": [
    "cols = ['AP Test Takers ', 'Total Exams Taken', 'Number of Exams with scores 3 4 or 5']\n",
    "\n",
    "for col in cols:\n",
    "    data['ap_2010'][col] = pd.to_numeric(data['ap_2010'][col], errors='coerce')\n",
    "print(data['ap_2010'].head(5))"
   ]
  },
  {
   "cell_type": "markdown",
   "metadata": {},
   "source": [
    "In order to condense ap_2010.csv, we first need to convert the above columns in ap_2010 to numeric dtype."
   ]
  },
  {
   "cell_type": "code",
   "execution_count": 16,
   "metadata": {
    "collapsed": false
   },
   "outputs": [
    {
     "name": "stdout",
     "output_type": "stream",
     "text": [
      "      DBN                                    SCHOOL NAME  \\\n",
      "0  01M292  HENRY STREET SCHOOL FOR INTERNATIONAL STUDIES   \n",
      "1  01M448            UNIVERSITY NEIGHBORHOOD HIGH SCHOOL   \n",
      "2  01M450                     EAST SIDE COMMUNITY SCHOOL   \n",
      "3  01M458                      FORSYTH SATELLITE ACADEMY   \n",
      "4  01M509                        MARTA VALLE HIGH SCHOOL   \n",
      "\n",
      "  Num of SAT Test Takers  SAT Critical Reading Avg. Score  \\\n",
      "0                     29                            355.0   \n",
      "1                     91                            383.0   \n",
      "2                     70                            377.0   \n",
      "3                      7                            414.0   \n",
      "4                     44                            390.0   \n",
      "\n",
      "   SAT Math Avg. Score  SAT Writing Avg. Score  sat_score  \\\n",
      "0                404.0                   363.0     1122.0   \n",
      "1                423.0                   366.0     1172.0   \n",
      "2                402.0                   370.0     1149.0   \n",
      "3                401.0                   359.0     1174.0   \n",
      "4                433.0                   384.0     1207.0   \n",
      "\n",
      "                     SchoolName  AP Test Takers   Total Exams Taken  \\\n",
      "0                           NaN              NaN                NaN   \n",
      "1  UNIVERSITY NEIGHBORHOOD H.S.             39.0               49.0   \n",
      "2        EAST SIDE COMMUNITY HS             19.0               21.0   \n",
      "3                           NaN              NaN                NaN   \n",
      "4                           NaN              NaN                NaN   \n",
      "\n",
      "             ...             Regents w/o Advanced - n  \\\n",
      "0            ...                                   36   \n",
      "1            ...                                   34   \n",
      "2            ...                                   67   \n",
      "3            ...                                  NaN   \n",
      "4            ...                                   23   \n",
      "\n",
      "  Regents w/o Advanced - % of cohort Regents w/o Advanced - % of grads  \\\n",
      "0                              46.2%                             83.7%   \n",
      "1                              27.4%                             64.2%   \n",
      "2                74.400000000000006%                             95.7%   \n",
      "3                                NaN                               NaN   \n",
      "4                              27.4%                             48.9%   \n",
      "\n",
      "  Local - n  Local - % of cohort Local - % of grads Still Enrolled - n  \\\n",
      "0         7                   9%              16.3%                 16   \n",
      "1        11                 8.9%              20.8%                 46   \n",
      "2         3                 3.3%               4.3%                 15   \n",
      "3       NaN                  NaN                NaN                NaN   \n",
      "4         7   8.300000000000001%              14.9%                 25   \n",
      "\n",
      "  Still Enrolled - % of cohort Dropped Out - n Dropped Out - % of cohort  \n",
      "0                        20.5%              11                     14.1%  \n",
      "1                        37.1%              20       16.100000000000001%  \n",
      "2                        16.7%               5                      5.6%  \n",
      "3                          NaN             NaN                       NaN  \n",
      "4                        29.8%               5                        6%  \n",
      "\n",
      "[5 rows x 33 columns]\n",
      "(479, 33)\n"
     ]
    }
   ],
   "source": [
    "combined = data[\"sat_results\"]\n",
    "\n",
    "combined = combined.merge(data['ap_2010'], on='DBN', how='left')\n",
    "combined = combined.merge(data['graduation'], on='DBN', how='left')\n",
    "\n",
    "print(combined.head(5))\n",
    "print(combined.shape)"
   ]
  },
  {
   "cell_type": "markdown",
   "metadata": {},
   "source": [
    "Now that we have cleaned and condensed all the individual datasets, we need to combined them using the pandas.merge method, where we have to specify which merge type we are going to do.\n",
    "Here, for columns ap_2010 and graduation, we have a lot of missing values, so we will be using the 'left' join to preserve values."
   ]
  },
  {
   "cell_type": "code",
   "execution_count": 17,
   "metadata": {
    "collapsed": false
   },
   "outputs": [
    {
     "name": "stdout",
     "output_type": "stream",
     "text": [
      "(435, 40)\n"
     ]
    }
   ],
   "source": [
    "combined = combined.merge(data['class_size'], on='DBN', how='inner')\n",
    "print(combined.shape)"
   ]
  },
  {
   "cell_type": "code",
   "execution_count": 18,
   "metadata": {
    "collapsed": false
   },
   "outputs": [
    {
     "name": "stdout",
     "output_type": "stream",
     "text": [
      "(435, 77)\n"
     ]
    }
   ],
   "source": [
    "combined = combined.merge(data['demographics'], on='DBN', how='inner')\n",
    "print(combined.shape)"
   ]
  },
  {
   "cell_type": "code",
   "execution_count": 19,
   "metadata": {
    "collapsed": false
   },
   "outputs": [
    {
     "name": "stdout",
     "output_type": "stream",
     "text": [
      "(363, 137)\n"
     ]
    }
   ],
   "source": [
    "combined = combined.merge(data['hs_directory'], on='DBN', how='inner')\n",
    "print(combined.shape)"
   ]
  },
  {
   "cell_type": "markdown",
   "metadata": {},
   "source": [
    "Now that we are done with the 'left joins', we need to combine the class_size, demographics and hs_directory columns to combined. Here we use 'inner' join or merge because there are only a few missing values."
   ]
  },
  {
   "cell_type": "code",
   "execution_count": 20,
   "metadata": {
    "collapsed": false
   },
   "outputs": [
    {
     "name": "stdout",
     "output_type": "stream",
     "text": [
      "      DBN                                        SCHOOL NAME  \\\n",
      "0  01M292      HENRY STREET SCHOOL FOR INTERNATIONAL STUDIES   \n",
      "1  01M448                UNIVERSITY NEIGHBORHOOD HIGH SCHOOL   \n",
      "2  01M450                         EAST SIDE COMMUNITY SCHOOL   \n",
      "3  01M509                            MARTA VALLE HIGH SCHOOL   \n",
      "4  01M539  NEW EXPLORATIONS INTO SCIENCE, TECHNOLOGY AND ...   \n",
      "\n",
      "  Num of SAT Test Takers  SAT Critical Reading Avg. Score  \\\n",
      "0                     29                            355.0   \n",
      "1                     91                            383.0   \n",
      "2                     70                            377.0   \n",
      "3                     44                            390.0   \n",
      "4                    159                            522.0   \n",
      "\n",
      "   SAT Math Avg. Score  SAT Writing Avg. Score  sat_score  \\\n",
      "0                404.0                   363.0     1122.0   \n",
      "1                423.0                   366.0     1172.0   \n",
      "2                402.0                   370.0     1149.0   \n",
      "3                433.0                   384.0     1207.0   \n",
      "4                574.0                   525.0     1621.0   \n",
      "\n",
      "                       SchoolName  AP Test Takers   Total Exams Taken  \\\n",
      "0                               0       129.028846         197.038462   \n",
      "1    UNIVERSITY NEIGHBORHOOD H.S.        39.000000          49.000000   \n",
      "2          EAST SIDE COMMUNITY HS        19.000000          21.000000   \n",
      "3                               0       129.028846         197.038462   \n",
      "4  NEW EXPLORATIONS SCI,TECH,MATH       255.000000         377.000000   \n",
      "\n",
      "     ...                                   priority04  \\\n",
      "0    ...      Then to Manhattan students or residents   \n",
      "1    ...                                            0   \n",
      "2    ...                                            0   \n",
      "3    ...                                            0   \n",
      "4    ...                                            0   \n",
      "\n",
      "                        priority05 priority06 priority07  priority08  \\\n",
      "0  Then to New York City residents          0          0           0   \n",
      "1                                0          0          0           0   \n",
      "2                                0          0          0           0   \n",
      "3                                0          0          0           0   \n",
      "4                                0          0          0           0   \n",
      "\n",
      "  priority09 priority10                                         Location 1  \\\n",
      "0          0          0  220 Henry Street\\nNew York, NY 10002\\n(40.7137...   \n",
      "1          0          0  200 Monroe Street\\nNew York, NY 10002\\n(40.712...   \n",
      "2          0          0  420 East 12 Street\\nNew York, NY 10009\\n(40.72...   \n",
      "3          0          0  145 Stanton Street\\nNew York, NY 10002\\n(40.72...   \n",
      "4          0          0  111 Columbia Street\\nNew York, NY 10002\\n(40.7...   \n",
      "\n",
      "         lat        lon  \n",
      "0  40.827603 -73.985260  \n",
      "1  40.827603 -73.984797  \n",
      "2  40.827603 -73.983041  \n",
      "3  40.827603 -73.985673  \n",
      "4  40.827603 -73.979426  \n",
      "\n",
      "[5 rows x 137 columns]\n"
     ]
    }
   ],
   "source": [
    "means = combined.mean()\n",
    "combined = combined.fillna(means)\n",
    "combined = combined.fillna(0)\n",
    "print(combined.head(5))"
   ]
  },
  {
   "cell_type": "markdown",
   "metadata": {},
   "source": [
    "Since we did left joins on 2 columns, we now have a lot of NaN or Null values which we need to deal with. For this, we replace any NaN values with the mean values for the column.\n",
    "Any NaN values left, we will use 0 using the fillna method."
   ]
  },
  {
   "cell_type": "code",
   "execution_count": 21,
   "metadata": {
    "collapsed": false
   },
   "outputs": [
    {
     "name": "stdout",
     "output_type": "stream",
     "text": [
      "0    01\n",
      "1    01\n",
      "2    01\n",
      "3    01\n",
      "4    01\n",
      "Name: school_dist, dtype: object\n"
     ]
    }
   ],
   "source": [
    "def school_dist(string):\n",
    "    name = string\n",
    "    return(name[0:2])\n",
    "combined['school_dist'] = combined['DBN'].apply(school_dist)\n",
    "print(combined['school_dist'].head(5))"
   ]
  },
  {
   "cell_type": "markdown",
   "metadata": {},
   "source": [
    "Now our data is ready for analysis. Here we are trying to map out statistics on a school district level, so we have written a function to extract the school district code and assign it to a new column called 'school_dist'."
   ]
  },
  {
   "cell_type": "code",
   "execution_count": 22,
   "metadata": {
    "collapsed": false
   },
   "outputs": [
    {
     "name": "stdout",
     "output_type": "stream",
     "text": [
      "SAT Critical Reading Avg. Score         9.868201e-01\n",
      "SAT Math Avg. Score                     9.726430e-01\n",
      "SAT Writing Avg. Score                  9.877708e-01\n",
      "sat_score                               1.000000e+00\n",
      "AP Test Takers                          5.231404e-01\n",
      "Total Exams Taken                       5.143334e-01\n",
      "Number of Exams with scores 3 4 or 5    4.632450e-01\n",
      "Total Cohort                            3.251440e-01\n",
      "CSD                                     4.294755e-02\n",
      "NUMBER OF STUDENTS / SEATS FILLED       3.946260e-01\n",
      "NUMBER OF SECTIONS                      3.626733e-01\n",
      "AVERAGE CLASS SIZE                      3.810143e-01\n",
      "SIZE OF SMALLEST CLASS                  2.499489e-01\n",
      "SIZE OF LARGEST CLASS                   3.144343e-01\n",
      "SCHOOLWIDE PUPIL-TEACHER RATIO                   NaN\n",
      "schoolyear                                       NaN\n",
      "fl_percent                                       NaN\n",
      "frl_percent                            -7.222246e-01\n",
      "total_enrollment                        3.678569e-01\n",
      "ell_num                                -1.537782e-01\n",
      "ell_percent                            -3.987497e-01\n",
      "sped_num                                3.493309e-02\n",
      "sped_percent                           -4.481703e-01\n",
      "asian_num                               4.754451e-01\n",
      "asian_per                               5.707302e-01\n",
      "black_num                               2.797915e-02\n",
      "black_per                              -2.841395e-01\n",
      "hispanic_num                            2.574353e-02\n",
      "hispanic_per                           -3.969849e-01\n",
      "white_num                               4.495586e-01\n",
      "white_per                               6.207178e-01\n",
      "male_num                                3.255198e-01\n",
      "male_per                               -1.120624e-01\n",
      "female_num                              3.886308e-01\n",
      "female_per                              1.121077e-01\n",
      "grade_span_max                                   NaN\n",
      "expgrade_span_max                                NaN\n",
      "zip                                    -6.397683e-02\n",
      "total_students                          4.078270e-01\n",
      "number_programs                         1.170116e-01\n",
      "priority08                                       NaN\n",
      "priority09                                       NaN\n",
      "priority10                                       NaN\n",
      "lat                                     2.212011e-15\n",
      "lon                                    -1.322216e-01\n",
      "Name: sat_score, dtype: float64\n"
     ]
    }
   ],
   "source": [
    "correlations = combined.corr()\n",
    "correlations = correlations['sat_score']\n",
    "print(correlations)"
   ]
  },
  {
   "cell_type": "markdown",
   "metadata": {},
   "source": [
    "We are now trying to find the correlations of different columns with 'sat_score' to understand which coulmns have maximum impact on sat_score.\n",
    "There are some interesting findings we can see, some of which are:\n",
    "\n",
    "1. total_enrollment has a strong positive correlation with sat_scores which is surprising since we would believe that smaller the program, better the scores. But here, with increase in size of class, the sat scores also increase.\n",
    "\n",
    "2. Female percent (female_per) and Number of females (female_num) both have a strong positive correlation and Male percent (male_per) and Number of males (male_num) have a strong negative correlation. Hence, we can conclude that females perform better at SAT tests than males."
   ]
  },
  {
   "cell_type": "code",
   "execution_count": 23,
   "metadata": {
    "collapsed": false
   },
   "outputs": [
    {
     "data": {
      "image/png": "[encoded data removed]",
      "text/plain": [
       "<matplotlib.figure.Figure at 0x116b15128>"
      ]
     },
     "metadata": {},
     "output_type": "display_data"
    }
   ],
   "source": [
    "combined.plot.scatter(x='total_enrollment', y='sat_score')\n",
    "plt.show()"
   ]
  },
  {
   "cell_type": "markdown",
   "metadata": {},
   "source": [
    "We had a strong positive correlation for total_enrollment and sat_score, but the plot doesn't seem to show up any correlation as the clusters are spread apart and there's no line connecting the points.\n",
    "\n",
    "But interestingly enought, there is a small cluster to the bottom left, which has a low sat_score and a low_enrollment which may be causing our r-value to be high. We need to investigate and extract these columns to identify the factors."
   ]
  },
  {
   "cell_type": "code",
   "execution_count": 24,
   "metadata": {
    "collapsed": false
   },
   "outputs": [
    {
     "name": "stdout",
     "output_type": "stream",
     "text": [
      "91       INTERNATIONAL COMMUNITY HIGH SCHOOL\n",
      "125                                        0\n",
      "126          BRONX INTERNATIONAL HIGH SCHOOL\n",
      "139    KINGSBRIDGE INTERNATIONAL HIGH SCHOOL\n",
      "141    INTERNATIONAL SCHOOL FOR LIBERAL ARTS\n",
      "176                                        0\n",
      "179            HIGH SCHOOL OF WORLD CULTURES\n",
      "188       BROOKLYN INTERNATIONAL HIGH SCHOOL\n",
      "225    INTERNATIONAL HIGH SCHOOL AT PROSPECT\n",
      "237               IT TAKES A VILLAGE ACADEMY\n",
      "253                MULTICULTURAL HIGH SCHOOL\n",
      "286    PAN AMERICAN INTERNATIONAL HIGH SCHOO\n",
      "Name: School Name, dtype: object\n"
     ]
    }
   ],
   "source": [
    "low_enrollment = combined[combined['total_enrollment'] < 1000]\n",
    "low_enrollment = low_enrollment[low_enrollment['sat_score'] < 1000]\n",
    "print(low_enrollment['School Name'])"
   ]
  },
  {
   "cell_type": "markdown",
   "metadata": {},
   "source": [
    "Here we are trying to identify which high schools have a low sat score and a low enrollment i.e both are less than 1000. One interesting thing to note here is that all of the high schools which match this criteria are located in Bronx.\n",
    "\n",
    "Also, another interesting thing to observe is that this cluster of schools has a high percentage of English Language Learners enrolled which suggests that ell_percent has a higher correlation to sat_score as compared to total_enrollment. We need to further investigate this."
   ]
  },
  {
   "cell_type": "code",
   "execution_count": 25,
   "metadata": {
    "collapsed": false
   },
   "outputs": [
    {
     "data": {
      "image/png": "[encoded data removed]",
      "text/plain": [
       "<matplotlib.figure.Figure at 0x11873ef98>"
      ]
     },
     "metadata": {},
     "output_type": "display_data"
    }
   ],
   "source": [
    "combined.plot.scatter(x='ell_percent', y='sat_score')\n",
    "plt.show()"
   ]
  },
  {
   "cell_type": "markdown",
   "metadata": {},
   "source": [
    "From the plot above, we can see that there is a strong linear correlation with sat_score. But still we can see the cluster with high ell_percent and low sat_score i.e the schools located in Bronx. \n",
    "Let's plot them out on a map using Basemap package in order to understand the percentage of English language learners by school district."
   ]
  },
  {
   "cell_type": "code",
   "execution_count": 28,
   "metadata": {
    "collapsed": false
   },
   "outputs": [
    {
     "name": "stdout",
     "output_type": "stream",
     "text": [
      "  school_dist  SAT Critical Reading Avg. Score  SAT Math Avg. Score  \\\n",
      "0          01                       441.833333           473.333333   \n",
      "1          02                       426.619092           444.186256   \n",
      "2          03                       428.529851           437.997512   \n",
      "3          04                       402.142857           416.285714   \n",
      "4          05                       427.159915           438.236674   \n",
      "\n",
      "   SAT Writing Avg. Score    sat_score  AP Test Takers   Total Exams Taken  \\\n",
      "0              439.333333  1354.500000       116.681090         173.019231   \n",
      "1              424.832836  1295.638184       128.908454         201.516827   \n",
      "2              426.915672  1293.443035       156.183494         244.522436   \n",
      "3              405.714286  1224.142857       129.016484         183.879121   \n",
      "4              419.666098  1285.062687        85.722527         115.725275   \n",
      "\n",
      "   Number of Exams with scores 3 4 or 5  Total Cohort  CSD    ...      \\\n",
      "0                            135.800000     93.500000  1.0    ...       \n",
      "1                            157.495833    158.647849  2.0    ...       \n",
      "2                            193.087500    183.384409  3.0    ...       \n",
      "3                            151.035714    113.857143  4.0    ...       \n",
      "4                            142.464286    143.677419  5.0    ...       \n",
      "\n",
      "   grade_span_max  expgrade_span_max           zip  total_students  \\\n",
      "0            12.0               12.0  10003.166667      659.500000   \n",
      "1            12.0               12.0  10023.770833      621.395833   \n",
      "2            12.0               12.0  10023.750000      717.916667   \n",
      "3            12.0               12.0  10029.857143      580.857143   \n",
      "4            12.0               12.0  10030.142857      609.857143   \n",
      "\n",
      "   number_programs  priority08  priority09  priority10        lat        lon  \n",
      "0         1.333333         0.0         0.0         0.0  40.827603 -73.982377  \n",
      "1         1.416667         0.0         0.0         0.0  40.827603 -73.991386  \n",
      "2         2.000000         0.0         0.0         0.0  40.827603 -73.977370  \n",
      "3         1.142857         0.0         0.0         0.0  40.827603 -73.943215  \n",
      "4         1.142857         0.0         0.0         0.0  40.827603 -73.949251  \n",
      "\n",
      "[5 rows x 46 columns]\n"
     ]
    }
   ],
   "source": [
    "import numpy\n",
    "\n",
    "districts = combined.groupby('school_dist').agg(numpy.mean)\n",
    "districts.reset_index(inplace = True)\n",
    "print(districts.head())"
   ]
  },
  {
   "cell_type": "markdown",
   "metadata": {},
   "source": [
    "In order to better understand the correlation of ell_percent, we need to group data by school_districts."
   ]
  }
 ],
 "metadata": {
  "kernelspec": {
   "display_name": "Python 3",
   "language": "python",
   "name": "python3"
  },
  "language_info": {
   "codemirror_mode": {
    "name": "ipython",
    "version": 3
   },
   "file_extension": ".py",
   "mimetype": "text/x-python",
   "name": "python",
   "nbconvert_exporter": "python",
   "pygments_lexer": "ipython3",
   "version": "3.5.2"
  }
 },
 "nbformat": 4,
 "nbformat_minor": 0
}
