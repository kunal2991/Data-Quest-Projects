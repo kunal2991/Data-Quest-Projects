{
 "cells": [
  {
   "cell_type": "code",
   "execution_count": 1,
   "metadata": {
    "collapsed": false
   },
   "outputs": [
    {
     "name": "stdout",
     "output_type": "stream",
     "text": [
      "       id       type                                       name  \\\n",
      "0   12333  boardgame                          Twilight Struggle   \n",
      "1  120677  boardgame                              Terra Mystica   \n",
      "2  102794  boardgame                  Caverna: The Cave Farmers   \n",
      "3   25613  boardgame  Through the Ages: A Story of Civilization   \n",
      "4    3076  boardgame                                Puerto Rico   \n",
      "\n",
      "   yearpublished  minplayers  maxplayers  playingtime  minplaytime  \\\n",
      "0         2005.0         2.0         2.0        180.0        180.0   \n",
      "1         2012.0         2.0         5.0        150.0         60.0   \n",
      "2         2013.0         1.0         7.0        210.0         30.0   \n",
      "3         2006.0         2.0         4.0        240.0        240.0   \n",
      "4         2002.0         2.0         5.0        150.0         90.0   \n",
      "\n",
      "   maxplaytime  minage  users_rated  average_rating  bayes_average_rating  \\\n",
      "0        180.0    13.0        20113         8.33774               8.22186   \n",
      "1        150.0    12.0        14383         8.28798               8.14232   \n",
      "2        210.0    12.0         9262         8.28994               8.06886   \n",
      "3        240.0    12.0        13294         8.20407               8.05804   \n",
      "4        150.0    12.0        39883         8.14261               8.04524   \n",
      "\n",
      "   total_owners  total_traders  total_wanters  total_wishers  total_comments  \\\n",
      "0         26647            372           1219           5865            5347   \n",
      "1         16519            132           1586           6277            2526   \n",
      "2         12230             99           1476           5600            1700   \n",
      "3         14343            362           1084           5075            3378   \n",
      "4         44362            795            861           5414            9173   \n",
      "\n",
      "   total_weights  average_weight  \n",
      "0           2562          3.4785  \n",
      "1           1423          3.8939  \n",
      "2            777          3.7761  \n",
      "3           1642          4.1590  \n",
      "4           5213          3.2943  \n"
     ]
    }
   ],
   "source": [
    "import pandas as pd\n",
    "import matplotlib.pyplot as plt\n",
    "import seaborn as sns\n",
    "import numpy as np\n",
    "%matplotlib inline\n",
    "\n",
    "board_games = pd.read_csv('board_games.csv')\n",
    "print(board_games.head())"
   ]
  },
  {
   "cell_type": "markdown",
   "metadata": {},
   "source": [
    "Reading in the dataset on Board Game Reviews. The important columns being:\n",
    "    name -- name of the board game.\n",
    "    playingtime -- the playing time (given by the manufacturer).\n",
    "    minplaytime -- the minimum playing time (given by the manufacturer).\n",
    "    maxplaytime -- the maximum playing time (given by the manufacturer).\n",
    "    minage -- the minimum recommended age to play.\n",
    "    users_rated -- the number of users who rated the game.\n",
    "    average_rating -- the average rating given to the game by users. (0-10)\n",
    "    total_weights -- Number of weights given by users. Weight is a subjective measure that is made up by       BoardGameGeek. It's how \"deep\" or involved a game is. Here's a full explanation.\n",
    "    average_weight -- the average of all the subjective weights (0-5)."
   ]
  },
  {
   "cell_type": "code",
   "execution_count": 2,
   "metadata": {
    "collapsed": false
   },
   "outputs": [
    {
     "name": "stdout",
     "output_type": "stream",
     "text": [
      "(81312, 20)\n",
      "(56894, 20)\n"
     ]
    }
   ],
   "source": [
    "print(board_games.shape)\n",
    "board_games.dropna(axis=0,inplace=True) #Removing any rows with missing values\n",
    "\n",
    "board_games = board_games[board_games['users_rated']!=0] #Removing any rows where Users Rating = 0 i.e Ratings haven't been measured\n",
    "print(board_games.shape)"
   ]
  },
  {
   "cell_type": "markdown",
   "metadata": {},
   "source": [
    "Just some cleaning of the dataset. Removing any rows with missing values and any rows where the 'Users Rating' = 0 i.e there is no User Rating score.\n",
    "We can see that the number of rows reduce considerably after cleaning the dataset."
   ]
  },
  {
   "cell_type": "code",
   "execution_count": 3,
   "metadata": {
    "collapsed": false
   },
   "outputs": [
    {
     "data": {
      "image/png": "[encoded data removed]",
      "text/plain": [
       "<matplotlib.figure.Figure at 0x1043600b8>"
      ]
     },
     "metadata": {},
     "output_type": "display_data"
    }
   ],
   "source": [
    "plt.hist(board_games['average_rating'])\n",
    "plt.show()"
   ]
  },
  {
   "cell_type": "markdown",
   "metadata": {},
   "source": [
    "Trying to understand how other columns might affect the average rating of a board game, but before that need to understand the column itself and need to decide on an \"Error Metric\"."
   ]
  },
  {
   "cell_type": "code",
   "execution_count": 4,
   "metadata": {
    "collapsed": false
   },
   "outputs": [
    {
     "name": "stdout",
     "output_type": "stream",
     "text": [
      "1.5788299348332662\n"
     ]
    }
   ],
   "source": [
    "print(board_games['average_rating'].std()) #Standard Deviation "
   ]
  },
  {
   "cell_type": "code",
   "execution_count": 5,
   "metadata": {
    "collapsed": false
   },
   "outputs": [
    {
     "name": "stdout",
     "output_type": "stream",
     "text": [
      "6.016112849333889\n"
     ]
    }
   ],
   "source": [
    "print(board_games['average_rating'].mean()) #Average "
   ]
  },
  {
   "cell_type": "markdown",
   "metadata": {},
   "source": [
    "In order to choose an error metric, we need to understand the column first. The salient feature of which are:\n",
    "\n",
    "1. The column follows somewhat of a Normal Distribution\n",
    "2. The data or the values are continuous and not discreet\n",
    "\n",
    "Hence, MSE (Mean Squared Error) seems a good error metric in this case."
   ]
  },
  {
   "cell_type": "code",
   "execution_count": 6,
   "metadata": {
    "collapsed": false
   },
   "outputs": [
    {
     "name": "stdout",
     "output_type": "stream",
     "text": [
      "Index(['id', 'type', 'name', 'yearpublished', 'minplayers', 'maxplayers',\n",
      "       'playingtime', 'minplaytime', 'maxplaytime', 'minage', 'users_rated',\n",
      "       'average_rating', 'bayes_average_rating', 'total_owners',\n",
      "       'total_traders', 'total_wanters', 'total_wishers', 'total_comments',\n",
      "       'total_weights', 'average_weight'],\n",
      "      dtype='object')\n"
     ]
    }
   ],
   "source": [
    "print(board_games.columns)"
   ]
  },
  {
   "cell_type": "code",
   "execution_count": 7,
   "metadata": {
    "collapsed": false
   },
   "outputs": [
    {
     "name": "stdout",
     "output_type": "stream",
     "text": [
      "   yearpublished  minplayers  maxplayers  playingtime  minplaytime  \\\n",
      "0         2005.0         2.0         2.0        180.0        180.0   \n",
      "1         2012.0         2.0         5.0        150.0         60.0   \n",
      "2         2013.0         1.0         7.0        210.0         30.0   \n",
      "3         2006.0         2.0         4.0        240.0        240.0   \n",
      "4         2002.0         2.0         5.0        150.0         90.0   \n",
      "\n",
      "   maxplaytime  minage  users_rated  average_rating  bayes_average_rating  \\\n",
      "0        180.0    13.0        20113         8.33774               8.22186   \n",
      "1        150.0    12.0        14383         8.28798               8.14232   \n",
      "2        210.0    12.0         9262         8.28994               8.06886   \n",
      "3        240.0    12.0        13294         8.20407               8.05804   \n",
      "4        150.0    12.0        39883         8.14261               8.04524   \n",
      "\n",
      "   total_owners  total_traders  total_wanters  total_wishers  total_comments  \\\n",
      "0         26647            372           1219           5865            5347   \n",
      "1         16519            132           1586           6277            2526   \n",
      "2         12230             99           1476           5600            1700   \n",
      "3         14343            362           1084           5075            3378   \n",
      "4         44362            795            861           5414            9173   \n",
      "\n",
      "   total_weights  average_weight  \n",
      "0           2562          3.4785  \n",
      "1           1423          3.8939  \n",
      "2            777          3.7761  \n",
      "3           1642          4.1590  \n",
      "4           5213          3.2943  \n"
     ]
    }
   ],
   "source": [
    "from sklearn.cluster import KMeans\n",
    "\n",
    "kmeans_model = KMeans(n_clusters=5,random_state=1)  #Initializing a KMeans model with 5 clusters\n",
    "numeric_columns = board_games[board_games.columns[3:len(board_games.columns)]]  #Extracting only the numeric columns\n",
    "print(numeric_columns.head())"
   ]
  },
  {
   "cell_type": "code",
   "execution_count": 8,
   "metadata": {
    "collapsed": false
   },
   "outputs": [
    {
     "name": "stdout",
     "output_type": "stream",
     "text": [
      "[1 1 1 ..., 0 0 0]\n"
     ]
    }
   ],
   "source": [
    "kmeans_model.fit(numeric_columns)\n",
    "labels = kmeans_model.labels_\n",
    "print(labels)"
   ]
  },
  {
   "cell_type": "markdown",
   "metadata": {},
   "source": [
    "Using a KMeans Clustering algo to fit a model with only the numeric columns and then extracting the labels. In order to visualize the model properly, we need to calculate the mean and standard deviation for each column and then plot it out."
   ]
  },
  {
   "cell_type": "code",
   "execution_count": 9,
   "metadata": {
    "collapsed": false
   },
   "outputs": [
    {
     "data": {
      "image/png": "[encoded data removed]",
      "text/plain": [
       "<matplotlib.figure.Figure at 0x1179dcb70>"
      ]
     },
     "metadata": {},
     "output_type": "display_data"
    }
   ],
   "source": [
    "game_mean = numeric_columns.apply(np.mean,axis=1) #Calculating mean for every column\n",
    "game_std = numeric_columns.apply(np.std,axis=1)  #Calculating standard dev for every column\n",
    "\n",
    "plt.scatter(x=game_mean,y=game_std,c=labels)\n",
    "plt.show()"
   ]
  },
  {
   "cell_type": "markdown",
   "metadata": {},
   "source": [
    "From the clustering above, we can see that most of the games are very similarly ranked or weighted or equally played since the clusters are grouped very closely together.\n",
    "Although there are a few outliers or clusters where once the game attributes tend to increase in value, there are only a few high quality games."
   ]
  },
  {
   "cell_type": "code",
   "execution_count": 10,
   "metadata": {
    "collapsed": false
   },
   "outputs": [
    {
     "name": "stdout",
     "output_type": "stream",
     "text": [
      "yearpublished           0.108461\n",
      "minplayers             -0.032701\n",
      "maxplayers             -0.008335\n",
      "playingtime             0.048994\n",
      "minplaytime             0.043985\n",
      "maxplaytime             0.048994\n",
      "minage                  0.210049\n",
      "users_rated             0.112564\n",
      "average_rating          1.000000\n",
      "bayes_average_rating    0.231563\n",
      "total_owners            0.137478\n",
      "total_traders           0.119452\n",
      "total_wanters           0.196566\n",
      "total_wishers           0.171375\n",
      "total_comments          0.123714\n",
      "total_weights           0.109691\n",
      "average_weight          0.351081\n",
      "Name: average_rating, dtype: float64\n"
     ]
    }
   ],
   "source": [
    "correlations = numeric_columns.corr()\n",
    "print(correlations['average_rating'])"
   ]
  },
  {
   "cell_type": "markdown",
   "metadata": {},
   "source": [
    "Now that we have some idea about the data itself, we can now try and understand which columns are strongly correlated with 'average rating' and how to use it to define a LinearModel."
   ]
  },
  {
   "cell_type": "markdown",
   "metadata": {},
   "source": [
    "Some interesting observations are:\n",
    "\n",
    "1. The year published column seems to have a strong correlation with average_rating which indicates that the more recently published games have a better average rating.\n",
    "2. The games with a higher minimum age for playing tends to correlate to a higher average rating.\n",
    "3. Also, the more involved a game is i.e the higher the average_weight, the better the game is rated which is a pretty straightforward deduction."
   ]
  },
  {
   "cell_type": "code",
   "execution_count": 11,
   "metadata": {
    "collapsed": false
   },
   "outputs": [
    {
     "name": "stdout",
     "output_type": "stream",
     "text": [
      "2.0933969758339432\n"
     ]
    }
   ],
   "source": [
    "from sklearn.linear_model import LinearRegression\n",
    "\n",
    "lr = LinearRegression()\n",
    "cols = list(numeric_columns.columns)\n",
    "cols.remove('average_rating')\n",
    "cols.remove('bayes_average_rating')\n",
    "lr.fit(board_games[cols], board_games['average_rating'])\n",
    "predictions = lr.predict(board_games[cols])\n",
    "\n",
    "error_metric = np.mean((predictions - board_games['average_rating']) ** 2)\n",
    "print(error_metric)"
   ]
  },
  {
   "cell_type": "markdown",
   "metadata": {},
   "source": [
    "Our Linear Regression model here has a MSE value of 2.09 which is quite bad since it is close to the Standard Deviation.\n",
    "Hence, the model is not quite effective at prediction. We need to inspect the game reviews more to understand which games were reviewed higher and which were not."
   ]
  },
  {
   "cell_type": "code",
   "execution_count": 12,
   "metadata": {
    "collapsed": false
   },
   "outputs": [
    {
     "name": "stdout",
     "output_type": "stream",
     "text": [
      "           id       type                                               name  \\\n",
      "12640  126207  boardgame                             Deer in the Headlights   \n",
      "70637  153686  boardgame  Clash Fighter: The Real Time Fighting Card Gam...   \n",
      "28901   23989  boardgame                                       Driving Test   \n",
      "60782  122647  boardgame                                           The Cube   \n",
      "22408   15964  boardgame                                       Final Yamato   \n",
      "\n",
      "       yearpublished  minplayers  maxplayers  playingtime  minplaytime  \\\n",
      "12640         2012.0         2.0       104.0         30.0         30.0   \n",
      "70637         2014.0         2.0        12.0          5.0          5.0   \n",
      "28901         1955.0         1.0         0.0          0.0          0.0   \n",
      "60782         2011.0         2.0         6.0          1.0          1.0   \n",
      "22408         1985.0         1.0         2.0        360.0        360.0   \n",
      "\n",
      "       maxplaytime  minage  users_rated  average_rating  bayes_average_rating  \\\n",
      "12640         30.0     5.0           88         4.58523               5.39069   \n",
      "70637          5.0     7.0            2         5.50000               0.00000   \n",
      "28901          0.0     0.0            3         5.83333               0.00000   \n",
      "60782          1.0     8.0            6         5.33333               0.00000   \n",
      "22408        360.0    12.0            3         7.33333               0.00000   \n",
      "\n",
      "       total_owners  total_traders  total_wanters  total_wishers  \\\n",
      "12640           232             15              0              4   \n",
      "70637             1              0              0              0   \n",
      "28901             0              0              0              1   \n",
      "60782            17              0              0              0   \n",
      "22408             4              0              6              5   \n",
      "\n",
      "       total_comments  total_weights  average_weight  \n",
      "12640              33              9          1.3333  \n",
      "70637               1              1          1.0000  \n",
      "28901               3              0          0.0000  \n",
      "60782               4              2          2.0000  \n",
      "22408               0              2          2.0000  \n"
     ]
    }
   ],
   "source": [
    "np.random.seed(8)\n",
    "shuffled_index = np.random.permutation(board_games.index)\n",
    "shuffled_board_games = board_games.loc[shuffled_index]\n",
    "train = shuffled_board_games.iloc[0:42671]\n",
    "test = shuffled_board_games.iloc[42671:len(shuffled_board_games)]\n",
    "print(shuffled_board_games.head())"
   ]
  },
  {
   "cell_type": "markdown",
   "metadata": {},
   "source": [
    "In the above model that we cerated, we tested our data on our training set itself which is not the appropriate practice.\n",
    "Hence, now we have divided our data into training and test data. We will then train our LinearModel on the train data and try to predict values on test data and calculate the efficiency of our model."
   ]
  },
  {
   "cell_type": "code",
   "execution_count": 13,
   "metadata": {
    "collapsed": false
   },
   "outputs": [
    {
     "name": "stdout",
     "output_type": "stream",
     "text": [
      "2.0946995266410666\n"
     ]
    }
   ],
   "source": [
    "lr = LinearRegression()\n",
    "lr.fit(train[cols],train['average_rating'])\n",
    "predictions = lr.predict(test[cols])\n",
    "\n",
    "error_metric = np.mean((predictions - test['average_rating']) ** 2)\n",
    "print(error_metric)"
   ]
  },
  {
   "cell_type": "markdown",
   "metadata": {},
   "source": [
    "Even though we have bifurcated our test and train data, our MSE value is still 2.094 which again fails to be efficient at predicting."
   ]
  },
  {
   "cell_type": "code",
   "execution_count": 14,
   "metadata": {
    "collapsed": true
   },
   "outputs": [],
   "source": [
    "player_range = board_games['maxplayers'] - board_games['minplayers']\n",
    "board_games['player_range'] = player_range\n",
    "playtime_range = board_games['maxplaytime'] - board_games['minplaytime']\n",
    "board_games['playtime_range'] = playtime_range\n",
    "avg_no_rating = board_games['total_owners'] / board_games['users_rated']\n",
    "board_games['avg_no_rating'] = avg_no_rating"
   ]
  },
  {
   "cell_type": "code",
   "execution_count": 16,
   "metadata": {
    "collapsed": false
   },
   "outputs": [
    {
     "name": "stdout",
     "output_type": "stream",
     "text": [
      "yearpublished           0.108461\n",
      "minplayers             -0.032701\n",
      "maxplayers             -0.008335\n",
      "playingtime             0.048994\n",
      "minplaytime             0.043985\n",
      "maxplaytime             0.048994\n",
      "minage                  0.210049\n",
      "users_rated             0.112564\n",
      "average_rating          1.000000\n",
      "bayes_average_rating    0.231563\n",
      "total_owners            0.137478\n",
      "total_traders           0.119452\n",
      "total_wanters           0.196566\n",
      "total_wishers           0.171375\n",
      "total_comments          0.123714\n",
      "total_weights           0.109691\n",
      "average_weight          0.351081\n",
      "player_range           -0.007829\n",
      "playtime_range          0.025640\n",
      "avg_no_rating           0.172663\n",
      "Name: average_rating, dtype: float64\n"
     ]
    }
   ],
   "source": [
    "numeric_columns = board_games[board_games.columns[3:len(board_games.columns)]]  #Extracting only the numeric columns\n",
    "correlations = numeric_columns.corr()\n",
    "print(correlations['average_rating'])"
   ]
  },
  {
   "cell_type": "markdown",
   "metadata": {},
   "source": [
    "Here, we created 3 new predictors:\n",
    "\n",
    "1. Player Range = MaxPlayers - MinPlayers\n",
    "2. Playtime Range = MaxPlayTime - MinPlayTime\n",
    "3. Average Number of Ratings = Total Owners / Users_Rated\n",
    "\n",
    "And then we find the correlation of these columns with 'average_rating' and find that the average_number of ratings has a strong correlation with average_rating."
   ]
  },
  {
   "cell_type": "code",
   "execution_count": 17,
   "metadata": {
    "collapsed": false
   },
   "outputs": [
    {
     "name": "stdout",
     "output_type": "stream",
     "text": [
      "2.0327912441628\n"
     ]
    }
   ],
   "source": [
    "np.random.seed(8)\n",
    "shuffled_index = np.random.permutation(board_games.index)\n",
    "shuffled_board_games = board_games.loc[shuffled_index]\n",
    "train = shuffled_board_games.iloc[0:42671]\n",
    "test = shuffled_board_games.iloc[42671:len(shuffled_board_games)]\n",
    "\n",
    "cols = list(numeric_columns.columns)\n",
    "cols.remove('average_rating')\n",
    "cols.remove('bayes_average_rating')\n",
    "\n",
    "lr = LinearRegression()\n",
    "lr.fit(train[cols],train['average_rating'])\n",
    "predictions = lr.predict(test[cols])\n",
    "\n",
    "error_metric = np.mean((predictions - test['average_rating']) ** 2)\n",
    "print(error_metric)"
   ]
  },
  {
   "cell_type": "markdown",
   "metadata": {},
   "source": [
    "The MSE value reduced from 2.09 to 2.03 when we added a new predictor but still is not a good model for prediction."
   ]
  }
 ],
 "metadata": {
  "kernelspec": {
   "display_name": "Python 3",
   "language": "python",
   "name": "python3"
  },
  "language_info": {
   "codemirror_mode": {
    "name": "ipython",
    "version": 3
   },
   "file_extension": ".py",
   "mimetype": "text/x-python",
   "name": "python",
   "nbconvert_exporter": "python",
   "pygments_lexer": "ipython3",
   "version": "3.5.2"
  }
 },
 "nbformat": 4,
 "nbformat_minor": 0
}
